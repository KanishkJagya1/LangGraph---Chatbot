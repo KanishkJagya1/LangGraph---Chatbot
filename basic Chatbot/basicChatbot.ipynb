{
 "cells": [
  {
   "cell_type": "markdown",
   "metadata": {},
   "source": [
    "## Build a Basic Chatbot"
   ]
  },
  {
   "cell_type": "code",
   "execution_count": 76,
   "metadata": {},
   "outputs": [],
   "source": [
    "from typing import Annotated\n",
    "\n",
    "from typing_extensions import TypedDict\n",
    "\n",
    "from langgraph.graph import StateGraph,START,END\n",
    "from langgraph.graph.message import add_messages"
   ]
  },
  {
   "cell_type": "code",
   "execution_count": 77,
   "metadata": {},
   "outputs": [],
   "source": [
    "class State(TypedDict):\n",
    "    # Messages have the type \"list\". The `add_messages` function\n",
    "    # in the annotation defines how this state key should be updated\n",
    "    # (in this case, it appends messages to the list, rather than overwriting them)\n",
    "    messages:Annotated[list,add_messages]"
   ]
  },
  {
   "cell_type": "code",
   "execution_count": 78,
   "metadata": {},
   "outputs": [
    {
     "data": {
      "text/plain": [
       "True"
      ]
     },
     "execution_count": 78,
     "metadata": {},
     "output_type": "execute_result"
    }
   ],
   "source": [
    "import os\n",
    "from dotenv import load_dotenv\n",
    "load_dotenv()"
   ]
  },
  {
   "cell_type": "code",
   "execution_count": 79,
   "metadata": {},
   "outputs": [],
   "source": [
    "from langchain_groq import ChatGroq\n",
    "from langchain.chat_models import init_chat_model\n",
    "\n",
    "llm=ChatGroq(model=\"llama3-8b-8192\")"
   ]
  },
  {
   "cell_type": "code",
   "execution_count": 80,
   "metadata": {},
   "outputs": [
    {
     "data": {
      "text/plain": [
       "ChatGroq(client=<groq.resources.chat.completions.Completions object at 0x0000021E28287110>, async_client=<groq.resources.chat.completions.AsyncCompletions object at 0x0000021E285A07D0>, model_name='llama3-8b-8192', model_kwargs={}, groq_api_key=SecretStr('**********'))"
      ]
     },
     "execution_count": 80,
     "metadata": {},
     "output_type": "execute_result"
    }
   ],
   "source": [
    "llm"
   ]
  },
  {
   "cell_type": "code",
   "execution_count": 81,
   "metadata": {},
   "outputs": [
    {
     "data": {
      "text/plain": [
       "ChatGroq(client=<groq.resources.chat.completions.Completions object at 0x0000021E280390F0>, async_client=<groq.resources.chat.completions.AsyncCompletions object at 0x0000021E28039A70>, model_name='llama3-8b-8192', model_kwargs={}, groq_api_key=SecretStr('**********'))"
      ]
     },
     "execution_count": 81,
     "metadata": {},
     "output_type": "execute_result"
    }
   ],
   "source": [
    "llm = init_chat_model(\"groq:llama3-8b-8192\")\n",
    "llm"
   ]
  },
  {
   "cell_type": "code",
   "execution_count": 82,
   "metadata": {},
   "outputs": [],
   "source": [
    "## Node Functionality\n",
    "def chatbot(state:State):\n",
    "    return {\"messages\":[llm.invoke(state[\"messages\"])]}"
   ]
  },
  {
   "cell_type": "code",
   "execution_count": 83,
   "metadata": {},
   "outputs": [],
   "source": [
    "graph_builder=StateGraph(State)\n",
    "\n",
    "## Adding node\n",
    "graph_builder.add_node(\"llmchatbot\",chatbot)\n",
    "## Adding Edges\n",
    "graph_builder.add_edge(START,\"llmchatbot\")\n",
    "graph_builder.add_edge(\"llmchatbot\",END)\n",
    "\n",
    "## compile the graph\n",
    "graph=graph_builder.compile()"
   ]
  },
  {
   "cell_type": "code",
   "execution_count": 84,
   "metadata": {},
   "outputs": [
    {
     "data": {
      "image/png": "[encoded data removed]",
      "text/plain": [
       "<IPython.core.display.Image object>"
      ]
     },
     "metadata": {},
     "output_type": "display_data"
    }
   ],
   "source": [
    "#visualize the graph\n",
    "from IPython.display import Image, display\n",
    "\n",
    "try:\n",
    "    display(Image(graph.get_graph().draw_mermaid_png()))\n",
    "except:\n",
    "    pass"
   ]
  },
  {
   "cell_type": "code",
   "execution_count": 85,
   "metadata": {},
   "outputs": [],
   "source": [
    "response=graph.invoke({\"messages\":\"Hi\"})"
   ]
  },
  {
   "cell_type": "code",
   "execution_count": 86,
   "metadata": {},
   "outputs": [
    {
     "data": {
      "text/plain": [
       "\"Hi! It's nice to meet you. Is there something I can help you with or would you like to chat?\""
      ]
     },
     "execution_count": 86,
     "metadata": {},
     "output_type": "execute_result"
    }
   ],
   "source": [
    "response[\"messages\"][-1].content"
   ]
  },
  {
   "cell_type": "code",
   "execution_count": 87,
   "metadata": {},
   "outputs": [
    {
     "name": "stdout",
     "output_type": "stream",
     "text": [
      "I'm just a language model, I don't have feelings or emotions like humans do, so I don't have a emotional state. However, I'm functioning properly and ready to assist you with any questions or tasks you may have! How can I help you today?\n"
     ]
    }
   ],
   "source": [
    "for event in graph.stream({\"messages\": [{\"role\": \"user\", \"content\": \"Hello, how are you?\"}]}):\n",
    "    for val in event.values():\n",
    "        print(val[\"messages\"][-1].content)"
   ]
  },
  {
   "cell_type": "markdown",
   "metadata": {},
   "source": [
    "# Chatbot with External Tools\n",
    "\n",
    "> **Purpose**: This chatbot integrates live tools (e.g., for news updates, weather, or search) with the LLM to provide **real-time information** the model isn’t trained on or has outdated knowledge about.\n",
    "\n",
    "---\n",
    "\n",
    "### 🔄 Flow Diagram\n",
    "\n",
    "Start Node\n",
    "↓\n",
    "LLM + Binding Tool Node\n",
    "↓\n",
    "Tool Call (e.g., Web Search / News API)\n",
    "↓\n",
    "End\n",
    "\n",
    "\n",
    "> In cases where the tool call isn't needed (based on the LLM's response logic):\n",
    "\n",
    "Start Node\n",
    "↓\n",
    "LLM + Binding Tool Node\n",
    "↓\n",
    "End\n",
    "---\n",
    "\n",
    "### ✅ Explanation\n",
    "\n",
    "- **Start Node**: Receives the user input.\n",
    "- **LLM + Binding Tool Node**: Uses logic to decide if a tool (external data source) is required.\n",
    "- **Tool Call**: Fetches fresh/live information (e.g., news, stock prices, real-time facts).\n",
    "- **End**: Returns the final response to the user—either directly from the LLM or combined with external tool output.\n",
    "\n",
    "---\n",
    "\n",
    "### 🧩 Use Cases\n",
    "\n",
    "- Real-time news updates 📰  \n",
    "- Weather forecasts 🌦️  \n",
    "- Sports scores ⚽  \n",
    "- Web search 🔍  \n",
    "- Financial data 💹  \n",
    "\n",
    "---\n",
    "\n",
    "### ⚙️ Powered by:\n",
    "\n",
    "- `langgraph` for state-based logic flow  \n",
    "- `langchain` or equivalent for tool bindings  \n",
    "- External APIs for live data  \n",
    "\n",
    "\n"
   ]
  },
  {
   "cell_type": "code",
   "execution_count": 88,
   "metadata": {},
   "outputs": [
    {
     "data": {
      "text/plain": [
       "{'query': 'What is langgraph',\n",
       " 'follow_up_questions': None,\n",
       " 'answer': None,\n",
       " 'images': [],\n",
       " 'results': [{'title': 'What is LangGraph? - IBM',\n",
       "   'url': 'https://www.ibm.com/think/topics/langgraph',\n",
       "   'content': 'LangGraph, created by LangChain, is an open source AI agent framework designed to build, deploy and manage complex generative AI agent workflows. At its core, LangGraph uses the power of graph-based architectures to model and manage the intricate relationships between various components of an AI agent workflow. LangGraph illuminates the processes within an AI workflow, allowing full transparency of the agent’s state. By combining these technologies with a set of APIs and tools, LangGraph provides users with a versatile platform for developing AI solutions and workflows including chatbots, state graphs and other agent-based systems. Nodes: In LangGraph, nodes represent individual components or agents within an AI workflow. LangGraph uses enhanced decision-making by modeling complex relationships between nodes, which means it uses AI agents to analyze their past actions and feedback.',\n",
       "   'score': 0.94401723,\n",
       "   'raw_content': None},\n",
       "  {'title': 'What is LangGraph? - GeeksforGeeks',\n",
       "   'url': 'https://www.geeksforgeeks.org/machine-learning/what-is-langgraph/',\n",
       "   'content': 'LangGraph is a Python library that helps you build applications like chatbots or AI agents by organizing their logic step-by-step using state machine model. This step configures your Gemini API key and then we create a simple function ask_gemini that takes user input, sends it to the Gemini model and returns the AI-generated response. Creates a state structure with three fields: question, classification and response which flows through the LangGraph. import matplotlib.pyplot as plt from langgraph.graph import StateGraph\\u200bbuilder = StateGraph(GraphState)builder.add_node(\"classify\", classify)builder.add_node(\"respond\", respond)builder.set_entry_point(\"classify\")builder.add_edge(\"classify\", \"respond\")builder.set_finish_point(\"respond\")app = builder.compile()\\u200bdef visualize_workflow(builder): G = nx.DiGraph()\\u200b for node in builder.nodes: G.add_node(node) for edge in builder.edges: G.add_edge(edge[0], edge[1])\\u200b pos = nx.spring_layout(G) nx.draw(G, pos, with_labels=True, node_size=3000, node_color=\"skyblue\", font_size=12, font_weight=\"bold\", arrows=True)  plt.title(\"Langchain Workflow Visualization\") plt.show()\\u200bvisualize_workflow(builder)',\n",
       "   'score': 0.91137725,\n",
       "   'raw_content': None}],\n",
       " 'response_time': 1.53}"
      ]
     },
     "execution_count": 88,
     "metadata": {},
     "output_type": "execute_result"
    }
   ],
   "source": [
    "from langchain_tavily import TavilySearch\n",
    "\n",
    "tool=TavilySearch(max_results=2)\n",
    "tool.invoke(\"What is langgraph\")"
   ]
  },
  {
   "cell_type": "code",
   "execution_count": 89,
   "metadata": {},
   "outputs": [],
   "source": [
    "## Custom function\n",
    "def multiply(a:int,b:int)->int:\n",
    "    \"\"\"Multiply a and b\n",
    "\n",
    "    Args:\n",
    "        a (int): first int\n",
    "        b (int): second int\n",
    "\n",
    "    Returns:\n",
    "        int: output int\n",
    "    \"\"\"\n",
    "    return a*b"
   ]
  },
  {
   "cell_type": "code",
   "execution_count": 90,
   "metadata": {},
   "outputs": [],
   "source": [
    "\n",
    "tools=[tool,multiply]"
   ]
  },
  {
   "cell_type": "code",
   "execution_count": 91,
   "metadata": {},
   "outputs": [],
   "source": [
    "llm_with_tool=llm.bind_tools(tools)"
   ]
  },
  {
   "cell_type": "code",
   "execution_count": 92,
   "metadata": {},
   "outputs": [
    {
     "data": {
      "image/png": "[encoded data removed]",
      "text/plain": [
       "<IPython.core.display.Image object>"
      ]
     },
     "metadata": {},
     "output_type": "display_data"
    }
   ],
   "source": [
    "## Stategraph\n",
    "from langgraph.graph import StateGraph,START,END\n",
    "from langgraph.prebuilt import ToolNode\n",
    "from langgraph.prebuilt import tools_condition\n",
    "\n",
    "## Node definition\n",
    "def tool_calling_llm(state:State):\n",
    "    return {\"messages\":[llm_with_tool.invoke(state[\"messages\"])]}\n",
    "\n",
    "## Grpah\n",
    "builder=StateGraph(State)\n",
    "builder.add_node(\"tool_calling_llm\",tool_calling_llm)\n",
    "builder.add_node(\"tools\",ToolNode(tools))\n",
    "\n",
    "## Add Edges\n",
    "builder.add_edge(START, \"tool_calling_llm\")\n",
    "builder.add_conditional_edges(\n",
    "    \"tool_calling_llm\",\n",
    "    # If the latest message (result) from assistant is a tool call -> tools_condition routes to tools\n",
    "    # If the latest message (result) from assistant is a not a tool call -> tools_condition routes to END\n",
    "    tools_condition\n",
    ")\n",
    "builder.add_edge(\"tools\",END)\n",
    "\n",
    "## compile the graph\n",
    "graph=builder.compile()\n",
    "\n",
    "from IPython.display import Image, display\n",
    "display(Image(graph.get_graph().draw_mermaid_png()))"
   ]
  },
  {
   "cell_type": "code",
   "execution_count": 93,
   "metadata": {},
   "outputs": [],
   "source": [
    "response=graph.invoke({\"messages\":\"What is the recent ai news\"})"
   ]
  },
  {
   "cell_type": "code",
   "execution_count": 94,
   "metadata": {},
   "outputs": [
    {
     "data": {
      "text/plain": [
       "'{\"query\": \"recent ai news\", \"follow_up_questions\": null, \"answer\": null, \"images\": [], \"results\": [{\"url\": \"https://techcrunch.com/2025/06/20/mira-muratis-thinking-machines-lab-closes-on-2b-at-10b-valuation/\", \"title\": \"Mira Murati’s Thinking Machines Lab closes on $2B at $10B valuation - TechCrunch\", \"score\": 0.6972179, \"published_date\": \"Fri, 20 Jun 2025 21:59:33 GMT\", \"content\": \"Enterprise \\\\n### Workhelix taps years of research to help enterprises figure out where to apply AI\\\\n\\\\n       Rebecca Szkutak\\\\n\\\\n Feb 27, 2025\\\\n\\\\nLatest in AI\\\\n------------\\\\n\\\\nSee More\\\\n\\\\n   \\\\nImage 9\\\\n\\\\nIn Brief \\\\n### Mira Murati’s Thinking Machines Lab closes on $2B at $10B valuation\\\\n\\\\n       Rebecca Bellan\\\\n\\\\n 11 seconds ago\\\\n\\\\n   \\\\nImage 10: Cluely founder Roy Lee party invitation video\\\\n\\\\nAI \\\\n### Cluely, a startup that helps ‘cheat on everything,’ raises $15M from a16z\\\\n\\\\n       Marina Temkin\\\\n\\\\n 53 minutes ago\", \"raw_content\": null}, {\"url\": \"https://www.lightreading.com/ai-machine-learning/bt-and-vodafone-tech-bosses-troubled-by-dark-side-of-ai\", \"title\": \"BT and Vodafone tech bosses troubled by dark side of AI - Light Reading\", \"score\": 0.6501347, \"published_date\": \"Fri, 20 Jun 2025 11:21:04 GMT\", \"content\": \"AI & Machine Learning T-Mobile taps OpenAI to reduce customer churn 19/09/2024\\\\n\\\\n### Recommended for you\\\\n\\\\nAI & Machine Learning Image 22 sponsored Enterprise Networks Evolve From Basic Connectivity to Dynamic Experiences 29/04/2025\\\\n\\\\nAI & Machine Learning Orange is working on an AI network \\'brain\\' to run 5G 18/03/2025\\\\n\\\\nAI & Machine Learning MWC visitor numbers are up again, but the industry is decaying 07/03/2025 [...] See more from Iain Morris\\\\n\\\\nSubscribe and receive the latest news from the industry.\\\\n\\\\nJoin 62,000+ members. Yes it\\'s completely free.\\\\n\\\\nSign me up\\\\n\\\\nYou May Also Like\\\\n\\\\n  \\\\n\\\\nAI & Machine Learning sponsored Enterprise Networks Evolve From Basic Connectivity to Dynamic Experiences 29/04/2025\\\\n\\\\nAI & Machine Learning Orange is working on an AI network \\'brain\\' to run 5G 18/03/2025\\\\n\\\\nAI & Machine Learning Dell goes big on Nvidia but lauds Intel in new telecom pitch 25/09/2024 [...] #### Related Topics\\\\n\\\\n   AI & Machine Learning\\\\n   Network Automation\\\\n   Security\\\\n\\\\n   Cloud\\\\n   Virtualization\\\\n   Customer Experience\\\\n\\\\n#### Recent inDigital Transformation\\\\n\\\\nSee all\\\\n\\\\nIcon of graphic interface showing computer, machine thinking and AIImage 13AI & Machine Learning\\\\n\\\\nBT and Vodafone tech bosses troubled by dark side of AIBT and Vodafone tech bosses troubled by dark side of AI\\\\n\\\\nbyIain Morris\\\\n\\\\nJun 20, 2025\\\\n\\\\n6 Min Read\\\\n\\\\nthumbnailImage 14AI & Machine Learning\", \"raw_content\": null}], \"response_time\": 1.29}'"
      ]
     },
     "execution_count": 94,
     "metadata": {},
     "output_type": "execute_result"
    }
   ],
   "source": [
    "response['messages'][-1].content"
   ]
  },
  {
   "cell_type": "code",
   "execution_count": 95,
   "metadata": {},
   "outputs": [
    {
     "name": "stdout",
     "output_type": "stream",
     "text": [
      "================================\u001b[1m Human Message \u001b[0m=================================\n",
      "\n",
      "What is the recent ai news\n",
      "==================================\u001b[1m Ai Message \u001b[0m==================================\n",
      "Tool Calls:\n",
      "  tavily_search (5bbb9fc22)\n",
      " Call ID: 5bbb9fc22\n",
      "  Args:\n",
      "    query: recent ai news\n",
      "    search_depth: advanced\n",
      "    time_range: day\n",
      "    topic: news\n",
      "=================================\u001b[1m Tool Message \u001b[0m=================================\n",
      "Name: tavily_search\n",
      "\n",
      "{\"query\": \"recent ai news\", \"follow_up_questions\": null, \"answer\": null, \"images\": [], \"results\": [{\"url\": \"https://techcrunch.com/2025/06/20/mira-muratis-thinking-machines-lab-closes-on-2b-at-10b-valuation/\", \"title\": \"Mira Murati’s Thinking Machines Lab closes on $2B at $10B valuation - TechCrunch\", \"score\": 0.6972179, \"published_date\": \"Fri, 20 Jun 2025 21:59:33 GMT\", \"content\": \"Enterprise \\n### Workhelix taps years of research to help enterprises figure out where to apply AI\\n\\n       Rebecca Szkutak\\n\\n Feb 27, 2025\\n\\nLatest in AI\\n------------\\n\\nSee More\\n\\n   \\nImage 9\\n\\nIn Brief \\n### Mira Murati’s Thinking Machines Lab closes on $2B at $10B valuation\\n\\n       Rebecca Bellan\\n\\n 11 seconds ago\\n\\n   \\nImage 10: Cluely founder Roy Lee party invitation video\\n\\nAI \\n### Cluely, a startup that helps ‘cheat on everything,’ raises $15M from a16z\\n\\n       Marina Temkin\\n\\n 53 minutes ago\", \"raw_content\": null}, {\"url\": \"https://www.lightreading.com/ai-machine-learning/bt-and-vodafone-tech-bosses-troubled-by-dark-side-of-ai\", \"title\": \"BT and Vodafone tech bosses troubled by dark side of AI - Light Reading\", \"score\": 0.6501347, \"published_date\": \"Fri, 20 Jun 2025 11:21:04 GMT\", \"content\": \"AI & Machine Learning T-Mobile taps OpenAI to reduce customer churn 19/09/2024\\n\\n### Recommended for you\\n\\nAI & Machine Learning Image 22 sponsored Enterprise Networks Evolve From Basic Connectivity to Dynamic Experiences 29/04/2025\\n\\nAI & Machine Learning Orange is working on an AI network 'brain' to run 5G 18/03/2025\\n\\nAI & Machine Learning MWC visitor numbers are up again, but the industry is decaying 07/03/2025 [...] See more from Iain Morris\\n\\nSubscribe and receive the latest news from the industry.\\n\\nJoin 62,000+ members. Yes it's completely free.\\n\\nSign me up\\n\\nYou May Also Like\\n\\n  \\n\\nAI & Machine Learning sponsored Enterprise Networks Evolve From Basic Connectivity to Dynamic Experiences 29/04/2025\\n\\nAI & Machine Learning Orange is working on an AI network 'brain' to run 5G 18/03/2025\\n\\nAI & Machine Learning Dell goes big on Nvidia but lauds Intel in new telecom pitch 25/09/2024 [...] #### Related Topics\\n\\n   AI & Machine Learning\\n   Network Automation\\n   Security\\n\\n   Cloud\\n   Virtualization\\n   Customer Experience\\n\\n#### Recent inDigital Transformation\\n\\nSee all\\n\\nIcon of graphic interface showing computer, machine thinking and AIImage 13AI & Machine Learning\\n\\nBT and Vodafone tech bosses troubled by dark side of AIBT and Vodafone tech bosses troubled by dark side of AI\\n\\nbyIain Morris\\n\\nJun 20, 2025\\n\\n6 Min Read\\n\\nthumbnailImage 14AI & Machine Learning\", \"raw_content\": null}], \"response_time\": 1.29}\n"
     ]
    }
   ],
   "source": [
    "for m in response['messages']:\n",
    "    m.pretty_print()"
   ]
  },
  {
   "cell_type": "code",
   "execution_count": 96,
   "metadata": {},
   "outputs": [
    {
     "name": "stdout",
     "output_type": "stream",
     "text": [
      "================================\u001b[1m Human Message \u001b[0m=================================\n",
      "\n",
      "What is 5 multiplied by 2\n",
      "==================================\u001b[1m Ai Message \u001b[0m==================================\n",
      "Tool Calls:\n",
      "  multiply (ghmhvk4ax)\n",
      " Call ID: ghmhvk4ax\n",
      "  Args:\n",
      "    a: 5\n",
      "    b: 2\n",
      "=================================\u001b[1m Tool Message \u001b[0m=================================\n",
      "Name: multiply\n",
      "\n",
      "10\n"
     ]
    }
   ],
   "source": [
    "response=graph.invoke({\"messages\":\"What is 5 multiplied by 2\"})\n",
    "for m in response['messages']:\n",
    "    m.pretty_print()"
   ]
  },
  {
   "cell_type": "code",
   "execution_count": 97,
   "metadata": {},
   "outputs": [
    {
     "name": "stdout",
     "output_type": "stream",
     "text": [
      "================================\u001b[1m Human Message \u001b[0m=================================\n",
      "\n",
      "Give me the recent ai news and then multiply 5 by 10\n",
      "==================================\u001b[1m Ai Message \u001b[0m==================================\n",
      "Tool Calls:\n",
      "  tavily_search (2pw1mwqhp)\n",
      " Call ID: 2pw1mwqhp\n",
      "  Args:\n",
      "    query: recent ai news\n",
      "    search_depth: advanced\n",
      "    time_range: day\n",
      "    topic: news\n",
      "=================================\u001b[1m Tool Message \u001b[0m=================================\n",
      "Name: tavily_search\n",
      "\n",
      "{\"query\": \"recent ai news\", \"follow_up_questions\": null, \"answer\": null, \"images\": [], \"results\": [{\"url\": \"https://techcrunch.com/2025/06/20/mira-muratis-thinking-machines-lab-closes-on-2b-at-10b-valuation/\", \"title\": \"Mira Murati’s Thinking Machines Lab closes on $2B at $10B valuation - TechCrunch\", \"score\": 0.6972179, \"published_date\": \"Fri, 20 Jun 2025 21:59:33 GMT\", \"content\": \"Enterprise \\n### Workhelix taps years of research to help enterprises figure out where to apply AI\\n\\n       Rebecca Szkutak\\n\\n Feb 27, 2025\\n\\nLatest in AI\\n------------\\n\\nSee More\\n\\n   \\nImage 9\\n\\nIn Brief \\n### Mira Murati’s Thinking Machines Lab closes on $2B at $10B valuation\\n\\n       Rebecca Bellan\\n\\n 11 seconds ago\\n\\n   \\nImage 10: Cluely founder Roy Lee party invitation video\\n\\nAI \\n### Cluely, a startup that helps ‘cheat on everything,’ raises $15M from a16z\\n\\n       Marina Temkin\\n\\n 53 minutes ago\", \"raw_content\": null}, {\"url\": \"https://www.lightreading.com/ai-machine-learning/bt-and-vodafone-tech-bosses-troubled-by-dark-side-of-ai\", \"title\": \"BT and Vodafone tech bosses troubled by dark side of AI - Light Reading\", \"score\": 0.6501347, \"published_date\": \"Fri, 20 Jun 2025 11:21:04 GMT\", \"content\": \"AI & Machine Learning T-Mobile taps OpenAI to reduce customer churn 19/09/2024\\n\\n### Recommended for you\\n\\nAI & Machine Learning Image 22 sponsored Enterprise Networks Evolve From Basic Connectivity to Dynamic Experiences 29/04/2025\\n\\nAI & Machine Learning Orange is working on an AI network 'brain' to run 5G 18/03/2025\\n\\nAI & Machine Learning MWC visitor numbers are up again, but the industry is decaying 07/03/2025 [...] See more from Iain Morris\\n\\nSubscribe and receive the latest news from the industry.\\n\\nJoin 62,000+ members. Yes it's completely free.\\n\\nSign me up\\n\\nYou May Also Like\\n\\n  \\n\\nAI & Machine Learning sponsored Enterprise Networks Evolve From Basic Connectivity to Dynamic Experiences 29/04/2025\\n\\nAI & Machine Learning Orange is working on an AI network 'brain' to run 5G 18/03/2025\\n\\nAI & Machine Learning Dell goes big on Nvidia but lauds Intel in new telecom pitch 25/09/2024 [...] #### Related Topics\\n\\n   AI & Machine Learning\\n   Network Automation\\n   Security\\n\\n   Cloud\\n   Virtualization\\n   Customer Experience\\n\\n#### Recent inDigital Transformation\\n\\nSee all\\n\\nIcon of graphic interface showing computer, machine thinking and AIImage 13AI & Machine Learning\\n\\nBT and Vodafone tech bosses troubled by dark side of AIBT and Vodafone tech bosses troubled by dark side of AI\\n\\nbyIain Morris\\n\\nJun 20, 2025\\n\\n6 Min Read\\n\\nthumbnailImage 14AI & Machine Learning\", \"raw_content\": null}], \"response_time\": 2.22}\n"
     ]
    }
   ],
   "source": [
    "response=graph.invoke({\"messages\":\"Give me the recent ai news and then multiply 5 by 10\"})\n",
    "for m in response['messages']:\n",
    "    m.pretty_print()"
   ]
  },
  {
   "cell_type": "markdown",
   "metadata": {},
   "source": [
    "# ReACT Agent Architecture"
   ]
  },
  {
   "cell_type": "code",
   "execution_count": 98,
   "metadata": {},
   "outputs": [
    {
     "data": {
      "image/png": "[encoded data removed]",
      "text/plain": [
       "<IPython.core.display.Image object>"
      ]
     },
     "metadata": {},
     "output_type": "display_data"
    }
   ],
   "source": [
    "## Stategraph\n",
    "from langgraph.graph import StateGraph,START,END\n",
    "from langgraph.prebuilt import ToolNode\n",
    "from langgraph.prebuilt import tools_condition\n",
    "\n",
    "## Node definition\n",
    "def tool_calling_llm(state:State):\n",
    "    return {\"messages\":[llm_with_tool.invoke(state[\"messages\"])]}\n",
    "\n",
    "## Grpah\n",
    "builder=StateGraph(State)\n",
    "builder.add_node(\"tool_calling_llm\",tool_calling_llm)\n",
    "builder.add_node(\"tools\",ToolNode(tools))\n",
    "\n",
    "## Add Edges\n",
    "builder.add_edge(START, \"tool_calling_llm\")\n",
    "builder.add_conditional_edges(\n",
    "    \"tool_calling_llm\",\n",
    "    # If the latest message (result) from assistant is a tool call -> tools_condition routes to tools\n",
    "    # If the latest message (result) from assistant is a not a tool call -> tools_condition routes to END\n",
    "    tools_condition\n",
    ")\n",
    "builder.add_edge(\"tools\",\"tool_calling_llm\")\n",
    "\n",
    "## compile the graph\n",
    "graph=builder.compile()\n",
    "\n",
    "from IPython.display import Image, display\n",
    "display(Image(graph.get_graph().draw_mermaid_png()))"
   ]
  },
  {
   "cell_type": "code",
   "execution_count": 99,
   "metadata": {},
   "outputs": [
    {
     "name": "stdout",
     "output_type": "stream",
     "text": [
      "================================\u001b[1m Human Message \u001b[0m=================================\n",
      "\n",
      "Give me the recent ai news and then multiply 5 by 10\n",
      "==================================\u001b[1m Ai Message \u001b[0m==================================\n",
      "Tool Calls:\n",
      "  tavily_search (7r1my08gz)\n",
      " Call ID: 7r1my08gz\n",
      "  Args:\n",
      "    query: recent ai news\n",
      "    search_depth: advanced\n",
      "    topic: news\n",
      "=================================\u001b[1m Tool Message \u001b[0m=================================\n",
      "Name: tavily_search\n",
      "\n",
      "{\"query\": \"recent ai news\", \"follow_up_questions\": null, \"answer\": null, \"images\": [], \"results\": [{\"url\": \"https://www.investopedia.com/amazon-s-ceo-tells-staff-ai-could-lead-to-a-smaller-corporate-workforce-11756555\", \"title\": \"Amazon's CEO Tells Staff AI Could Lead to a Smaller Corporate Workforce - Investopedia\", \"score\": 0.5996498, \"published_date\": \"Tue, 17 Jun 2025 21:29:00 GMT\", \"content\": \"conference.:max_bytes(150000):strip_icc():format(webp)/GettyImages-2215577822-47a75431e5254defb1dd57019a2c8389.jpg) Google Buyouts Could Point to More Tech Layoffs, as Sector Faces Heavy Job LossesImage 9: AMD's \\\"Advancing AI\\\" event:max_bytes(150000):strip_icc():format(webp)/Screenshot2025-06-12at4.58.35PM-2a3e218f561c45d09abce715571008a6.jpeg) AMD Unveils Its Latest Chips, With ChatGPT Maker OpenAI Among Its CustomersImage 11: Nvidia CEO Jensen Huang meets German Chancellor Friedrich [...] headquarters.:max_bytes(150000):strip_icc():format(webp)/GettyImages-2218457787-7afaea4355494f25acce8a6b5fa05785.jpg) Meta Invests Big in Startup Scale AI, Brings On Its CEO for AI Development EffortsImage 17: People pass the shop front for the media brand Disney Store on London's Oxford Street interacting with stormtrooper figures from the Star Wars films on May 7, 2025:max_bytes(150000):strip_icc():format(webp)/GettyImages-2217902300-c0d3508e1e104b6ebdf25b82bb0cd92c.jpg) Disney, Universal Sue [...] Merz.:max_bytes(150000):strip_icc():format(webp)/GettyImages-2219239037-f48729853bf84914aced2538b5e029a3.jpg) Why Oppenheimer Is Excited About Nvidia's Potential Gains From Sovereign AI DemandImage 13: Open AI CEO Sam Altman speaks during Snowflake Summit 2025.:max_bytes(150000):strip_icc():format(webp)/GettyImages-2218344211-86cd046e842a44d0a4e33bd185d837b3.jpg) 'ChatGPT Is Already More Powerful Than Any Human,' OpenAI CEO Sam Altman SaysImage 15: Scale AI\", \"raw_content\": null}, {\"url\": \"https://www.govtech.com/artificial-intelligence/governments-want-artificial-intelligence-but-adoption-lags\", \"title\": \"Governments Want Artificial Intelligence, but Adoption Lags - GovTech\", \"score\": 0.59824234, \"published_date\": \"Wed, 18 Jun 2025 21:36:19 GMT\", \"content\": \"A report released Wednesday reveals insight from government leaders about their data and AI programs. It finds that the demand for the technologies is high, but actual implementation levels are lower.\\n--------------------------------------------------------------------------------------------------------------------------------------------------------------------------------------------------------\\n\\nJune 18, 2025•\\n\\nNews Staff\\n\\n   Facebook\\n   LinkedIn\\n   Twitter\\n   Print)\\n   Email\", \"raw_content\": null}], \"response_time\": 1.56}\n",
      "==================================\u001b[1m Ai Message \u001b[0m==================================\n",
      "\n",
      "Based on the result of the tool call, here is the answer:\n",
      "\n",
      "Recent AI news:\n",
      "\n",
      "Amazon's CEO Tells Staff AI Could Lead to a Smaller Corporate Workforce - Investopedia\n",
      "Google Buyouts Could Point to More Tech Layoffs, as Sector Faces Heavy Job Losses\n",
      "AMD Unveils Its Latest Chips, With ChatGPT Maker OpenAI Among Its Customers\n",
      "Meta Invests Big in Startup Scale AI, Brings On Its CEO for AI Development Efforts\n",
      "Disney, Universal Sue Over 'Star Wars' IP in China\n",
      "Why Oppenheimer Is Excited About Nvidia's Potential Gains From Sovereign AI Demand\n",
      "'ChatGPT Is Already More Powerful Than Any Human,' OpenAI CEO Sam Altman Says\n",
      "\n",
      "Now, let's multiply 5 by 10:\n",
      "\n",
      "55\n"
     ]
    }
   ],
   "source": [
    "response=graph.invoke({\"messages\":\"Give me the recent ai news and then multiply 5 by 10\"})\n",
    "for m in response['messages']:\n",
    "    m.pretty_print()"
   ]
  },
  {
   "cell_type": "markdown",
   "metadata": {},
   "source": [
    "# Adding Memory In Agentic Graph"
   ]
  },
  {
   "cell_type": "code",
   "execution_count": 100,
   "metadata": {},
   "outputs": [
    {
     "name": "stdout",
     "output_type": "stream",
     "text": [
      "================================\u001b[1m Human Message \u001b[0m=================================\n",
      "\n",
      "Hello my name is Kansihk Jagya\n",
      "==================================\u001b[1m Ai Message \u001b[0m==================================\n",
      "\n",
      "Nice to meet you, Kansihk Jagya! I'm here to help you with any questions or tasks you may have. What brings you here today?\n"
     ]
    }
   ],
   "source": [
    "response=graph.invoke({\"messages\":\"Hello my name is Kansihk Jagya\"})\n",
    "for m in response['messages']:\n",
    "    m.pretty_print()"
   ]
  },
  {
   "cell_type": "code",
   "execution_count": 101,
   "metadata": {},
   "outputs": [
    {
     "data": {
      "image/png": "[encoded data removed]",
      "text/plain": [
       "<IPython.core.display.Image object>"
      ]
     },
     "metadata": {},
     "output_type": "display_data"
    }
   ],
   "source": [
    "## Stategraph\n",
    "from langgraph.graph import StateGraph,START,END\n",
    "from langgraph.prebuilt import ToolNode\n",
    "from langgraph.prebuilt import tools_condition\n",
    "from langgraph.checkpoint.memory import MemorySaver\n",
    "\n",
    "memory = MemorySaver()\n",
    "\n",
    "## Node definition\n",
    "def tool_calling_llm(state:State):\n",
    "    return {\"messages\":[llm_with_tool.invoke(state[\"messages\"])]}\n",
    "\n",
    "## Grpah\n",
    "builder=StateGraph(State)\n",
    "builder.add_node(\"tool_calling_llm\",tool_calling_llm)\n",
    "builder.add_node(\"tools\",ToolNode(tools))\n",
    "\n",
    "## Add Edges\n",
    "builder.add_edge(START, \"tool_calling_llm\")\n",
    "builder.add_conditional_edges(\n",
    "    \"tool_calling_llm\",\n",
    "    # If the latest message (result) from assistant is a tool call -> tools_condition routes to tools\n",
    "    # If the latest message (result) from assistant is a not a tool call -> tools_condition routes to END\n",
    "    tools_condition\n",
    ")\n",
    "builder.add_edge(\"tools\",\"tool_calling_llm\")\n",
    "\n",
    "## compile the graph\n",
    "graph=builder.compile(checkpointer=memory)\n",
    "\n",
    "from IPython.display import Image, display\n",
    "display(Image(graph.get_graph().draw_mermaid_png()))"
   ]
  },
  {
   "cell_type": "code",
   "execution_count": 103,
   "metadata": {},
   "outputs": [
    {
     "data": {
      "text/plain": [
       "{'messages': [HumanMessage(content='Hi my name is Krish', additional_kwargs={}, response_metadata={}, id='bc0a919b-48fd-4ca2-86ee-f5a164d3477f'),\n",
       "  AIMessage(content='Nice to meet you, Krish! What brings you here today?', additional_kwargs={}, response_metadata={'token_usage': {'completion_tokens': 14, 'prompt_tokens': 2193, 'total_tokens': 2207, 'completion_time': 0.013453135, 'prompt_time': 0.502190983, 'queue_time': 1.678029471, 'total_time': 0.515644118}, 'model_name': 'llama3-8b-8192', 'system_fingerprint': 'fp_8dc6ecaf8e', 'finish_reason': 'stop', 'logprobs': None}, id='run--7f81623a-14cd-4855-a21c-aca6f3d3f2c4-0', usage_metadata={'input_tokens': 2193, 'output_tokens': 14, 'total_tokens': 2207}),\n",
       "  HumanMessage(content='Hi my name is Kanishk', additional_kwargs={}, response_metadata={}, id='197d858e-6473-41ab-8702-0f4d24b1f350'),\n",
       "  AIMessage(content='Nice to meet you, Kanishk! How can I help you today?', additional_kwargs={}, response_metadata={'token_usage': {'completion_tokens': 17, 'prompt_tokens': 2223, 'total_tokens': 2240, 'completion_time': 0.016431048, 'prompt_time': 0.246470285, 'queue_time': 0.269959835, 'total_time': 0.262901333}, 'model_name': 'llama3-8b-8192', 'system_fingerprint': 'fp_8dc6ecaf8e', 'finish_reason': 'stop', 'logprobs': None}, id='run--0606db25-8345-42f5-a80d-a3c99b70236f-0', usage_metadata={'input_tokens': 2223, 'output_tokens': 17, 'total_tokens': 2240})]}"
      ]
     },
     "execution_count": 103,
     "metadata": {},
     "output_type": "execute_result"
    }
   ],
   "source": [
    "config={\"configurable\":{\"thread_id\":\"1\"}}\n",
    "\n",
    "response=graph.invoke({\"messages\":\"Hi my name is Kanishk\"},config=config)\n",
    "\n",
    "response"
   ]
  },
  {
   "cell_type": "code",
   "execution_count": 104,
   "metadata": {},
   "outputs": [
    {
     "data": {
      "text/plain": [
       "'Nice to meet you, Kanishk! How can I help you today?'"
      ]
     },
     "execution_count": 104,
     "metadata": {},
     "output_type": "execute_result"
    }
   ],
   "source": [
    "response['messages'][-1].content"
   ]
  },
  {
   "cell_type": "code",
   "execution_count": 105,
   "metadata": {},
   "outputs": [
    {
     "name": "stdout",
     "output_type": "stream",
     "text": [
      "Your name is Kanishk!\n"
     ]
    }
   ],
   "source": [
    "response=graph.invoke({\"messages\":\"Hey what is my name\"},config=config)\n",
    "\n",
    "print(response['messages'][-1].content)"
   ]
  },
  {
   "cell_type": "code",
   "execution_count": 106,
   "metadata": {},
   "outputs": [
    {
     "name": "stdout",
     "output_type": "stream",
     "text": [
      "Yes, I remember that your name is Kanishk!\n"
     ]
    }
   ],
   "source": [
    "response=graph.invoke({\"messages\":\"Hey do you remember mmy name\"},config=config)\n",
    "\n",
    "print(response['messages'][-1].content)"
   ]
  },
  {
   "cell_type": "markdown",
   "metadata": {},
   "source": [
    "# Streaming"
   ]
  },
  {
   "cell_type": "code",
   "execution_count": 107,
   "metadata": {},
   "outputs": [],
   "source": [
    "from langgraph.checkpoint.memory import MemorySaver\n",
    "memory=MemorySaver()"
   ]
  },
  {
   "cell_type": "code",
   "execution_count": 108,
   "metadata": {},
   "outputs": [],
   "source": [
    "def superbot(state:State):\n",
    "    return {\"messages\":[llm.invoke(state['messages'])]}"
   ]
  },
  {
   "cell_type": "code",
   "execution_count": 109,
   "metadata": {},
   "outputs": [
    {
     "data": {
      "image/png": "[encoded data removed]",
      "text/plain": [
       "<IPython.core.display.Image object>"
      ]
     },
     "metadata": {},
     "output_type": "display_data"
    }
   ],
   "source": [
    "graph=StateGraph(State)\n",
    "\n",
    "## node\n",
    "graph.add_node(\"SuperBot\",superbot)\n",
    "## Edges\n",
    "\n",
    "graph.add_edge(START,\"SuperBot\")\n",
    "graph.add_edge(\"SuperBot\",END)\n",
    "\n",
    "\n",
    "graph_builder=graph.compile(checkpointer=memory)\n",
    "\n",
    "\n",
    "## Display\n",
    "from IPython.display import Image, display\n",
    "display(Image(graph_builder.get_graph().draw_mermaid_png()))"
   ]
  },
  {
   "cell_type": "code",
   "execution_count": 111,
   "metadata": {},
   "outputs": [
    {
     "data": {
      "text/plain": [
       "{'messages': [HumanMessage(content='Hi,My name is Krish And I like cricket', additional_kwargs={}, response_metadata={}, id='cdeb1a74-42a1-4685-8004-c81c2b710e53'),\n",
       "  AIMessage(content=\"Nice to meet you, Krish! It's great to hear that you like cricket! What's your favorite team or player? Are you a fan of Test cricket, One-Day Internationals (ODIs), or Twenty20 (T20)?\", additional_kwargs={}, response_metadata={'token_usage': {'completion_tokens': 50, 'prompt_tokens': 20, 'total_tokens': 70, 'completion_time': 0.034201093, 'prompt_time': 0.002710681, 'queue_time': 0.274277858, 'total_time': 0.036911774}, 'model_name': 'llama3-8b-8192', 'system_fingerprint': 'fp_8b7c3a83f7', 'finish_reason': 'stop', 'logprobs': None}, id='run--e3f70bfa-2cf6-4d25-8054-b6326b9bf962-0', usage_metadata={'input_tokens': 20, 'output_tokens': 50, 'total_tokens': 70}),\n",
       "  HumanMessage(content='Hi,My name is Kanishk And I like Football', additional_kwargs={}, response_metadata={}, id='07105fb5-de35-402f-b868-e98bfe725187'),\n",
       "  AIMessage(content='Nice to meet you, Kanishk! Football is a great sport! Which team do you support? Are you a fan of the English Premier League, La Liga in Spain, the Bundesliga in Germany, or perhaps the Indian Super League? Do you have a favorite player or a favorite tournament, like the Champions League or the World Cup?', additional_kwargs={}, response_metadata={'token_usage': {'completion_tokens': 69, 'prompt_tokens': 91, 'total_tokens': 160, 'completion_time': 0.063790957, 'prompt_time': 0.024848689, 'queue_time': 0.26847732100000005, 'total_time': 0.088639646}, 'model_name': 'llama3-8b-8192', 'system_fingerprint': 'fp_8af39bf2ae', 'finish_reason': 'stop', 'logprobs': None}, id='run--0e23bba0-a824-42f8-bc37-bd3ccc7908e8-0', usage_metadata={'input_tokens': 91, 'output_tokens': 69, 'total_tokens': 160})]}"
      ]
     },
     "execution_count": 111,
     "metadata": {},
     "output_type": "execute_result"
    }
   ],
   "source": [
    "## Invocation\n",
    "\n",
    "config = {\"configurable\": {\"thread_id\": \"1\"}}\n",
    "\n",
    "graph_builder.invoke({'messages':\"Hi,My name is Kanishk And I like Football\"},config)"
   ]
  },
  {
   "cell_type": "code",
   "execution_count": 112,
   "metadata": {},
   "outputs": [
    {
     "name": "stdout",
     "output_type": "stream",
     "text": [
      "{'SuperBot': {'messages': [AIMessage(content='Hi Kanishk! Nice to meet you! Football is a great passion to have! Which team or league do you support? Are you a fan of a particular player or a specific style of play?', additional_kwargs={}, response_metadata={'token_usage': {'completion_tokens': 42, 'prompt_tokens': 22, 'total_tokens': 64, 'completion_time': 0.038975715, 'prompt_time': 0.003242842, 'queue_time': 0.26977989799999996, 'total_time': 0.042218557}, 'model_name': 'llama3-8b-8192', 'system_fingerprint': 'fp_8dc6ecaf8e', 'finish_reason': 'stop', 'logprobs': None}, id='run--0f4baaa9-8aad-4585-994c-35eb7e25e28b-0', usage_metadata={'input_tokens': 22, 'output_tokens': 42, 'total_tokens': 64})]}}\n"
     ]
    }
   ],
   "source": [
    "# Create a thread\n",
    "config = {\"configurable\": {\"thread_id\": \"3\"}}\n",
    "\n",
    "for chunk in graph_builder.stream({'messages':\"Hi,My name is Kanishk And I like Football\"},config,stream_mode=\"updates\"):\n",
    "    print(chunk)"
   ]
  },
  {
   "cell_type": "code",
   "execution_count": 113,
   "metadata": {},
   "outputs": [
    {
     "name": "stdout",
     "output_type": "stream",
     "text": [
      "{'messages': [HumanMessage(content='Hi,My name is Kanishk And I like Football', additional_kwargs={}, response_metadata={}, id='ef51b419-6a88-4f64-aee9-056cf6da42a1'), AIMessage(content='Hi Kanishk! Nice to meet you! Football is a great passion to have! Which team or league do you support? Are you a fan of a particular player or a specific style of play?', additional_kwargs={}, response_metadata={'token_usage': {'completion_tokens': 42, 'prompt_tokens': 22, 'total_tokens': 64, 'completion_time': 0.038975715, 'prompt_time': 0.003242842, 'queue_time': 0.26977989799999996, 'total_time': 0.042218557}, 'model_name': 'llama3-8b-8192', 'system_fingerprint': 'fp_8dc6ecaf8e', 'finish_reason': 'stop', 'logprobs': None}, id='run--0f4baaa9-8aad-4585-994c-35eb7e25e28b-0', usage_metadata={'input_tokens': 22, 'output_tokens': 42, 'total_tokens': 64}), HumanMessage(content='Hi,My name is Kanishk And I like Football', additional_kwargs={}, response_metadata={}, id='3d2574b0-e5c2-44c6-969f-ec2ff6e43a1c')]}\n",
      "{'messages': [HumanMessage(content='Hi,My name is Kanishk And I like Football', additional_kwargs={}, response_metadata={}, id='ef51b419-6a88-4f64-aee9-056cf6da42a1'), AIMessage(content='Hi Kanishk! Nice to meet you! Football is a great passion to have! Which team or league do you support? Are you a fan of a particular player or a specific style of play?', additional_kwargs={}, response_metadata={'token_usage': {'completion_tokens': 42, 'prompt_tokens': 22, 'total_tokens': 64, 'completion_time': 0.038975715, 'prompt_time': 0.003242842, 'queue_time': 0.26977989799999996, 'total_time': 0.042218557}, 'model_name': 'llama3-8b-8192', 'system_fingerprint': 'fp_8dc6ecaf8e', 'finish_reason': 'stop', 'logprobs': None}, id='run--0f4baaa9-8aad-4585-994c-35eb7e25e28b-0', usage_metadata={'input_tokens': 22, 'output_tokens': 42, 'total_tokens': 64}), HumanMessage(content='Hi,My name is Kanishk And I like Football', additional_kwargs={}, response_metadata={}, id='3d2574b0-e5c2-44c6-969f-ec2ff6e43a1c'), AIMessage(content=\"A classic reintroduction! Hi Kanishk, nice to meet you again! Football is an amazing sport, isn't it? What's your favorite team or player? Do you play football yourself or just enjoy watching it?\", additional_kwargs={}, response_metadata={'token_usage': {'completion_tokens': 46, 'prompt_tokens': 85, 'total_tokens': 131, 'completion_time': 0.031556459, 'prompt_time': 0.009990152, 'queue_time': 0.27264444800000004, 'total_time': 0.041546611}, 'model_name': 'llama3-8b-8192', 'system_fingerprint': 'fp_8b7c3a83f7', 'finish_reason': 'stop', 'logprobs': None}, id='run--a2199c41-2c10-4792-9252-38a521c5523a-0', usage_metadata={'input_tokens': 85, 'output_tokens': 46, 'total_tokens': 131})]}\n"
     ]
    }
   ],
   "source": [
    "for chunk in graph_builder.stream({'messages':\"Hi,My name is Kanishk And I like Football\"},config,stream_mode=\"values\"):\n",
    "    print(chunk)"
   ]
  },
  {
   "cell_type": "code",
   "execution_count": 114,
   "metadata": {},
   "outputs": [
    {
     "name": "stdout",
     "output_type": "stream",
     "text": [
      "{'messages': [HumanMessage(content='Hi,My name is Kanishk And I like Football', additional_kwargs={}, response_metadata={}, id='ef51b419-6a88-4f64-aee9-056cf6da42a1'), AIMessage(content='Hi Kanishk! Nice to meet you! Football is a great passion to have! Which team or league do you support? Are you a fan of a particular player or a specific style of play?', additional_kwargs={}, response_metadata={'token_usage': {'completion_tokens': 42, 'prompt_tokens': 22, 'total_tokens': 64, 'completion_time': 0.038975715, 'prompt_time': 0.003242842, 'queue_time': 0.26977989799999996, 'total_time': 0.042218557}, 'model_name': 'llama3-8b-8192', 'system_fingerprint': 'fp_8dc6ecaf8e', 'finish_reason': 'stop', 'logprobs': None}, id='run--0f4baaa9-8aad-4585-994c-35eb7e25e28b-0', usage_metadata={'input_tokens': 22, 'output_tokens': 42, 'total_tokens': 64}), HumanMessage(content='Hi,My name is Kanishk And I like Football', additional_kwargs={}, response_metadata={}, id='3d2574b0-e5c2-44c6-969f-ec2ff6e43a1c'), AIMessage(content=\"A classic reintroduction! Hi Kanishk, nice to meet you again! Football is an amazing sport, isn't it? What's your favorite team or player? Do you play football yourself or just enjoy watching it?\", additional_kwargs={}, response_metadata={'token_usage': {'completion_tokens': 46, 'prompt_tokens': 85, 'total_tokens': 131, 'completion_time': 0.031556459, 'prompt_time': 0.009990152, 'queue_time': 0.27264444800000004, 'total_time': 0.041546611}, 'model_name': 'llama3-8b-8192', 'system_fingerprint': 'fp_8b7c3a83f7', 'finish_reason': 'stop', 'logprobs': None}, id='run--a2199c41-2c10-4792-9252-38a521c5523a-0', usage_metadata={'input_tokens': 85, 'output_tokens': 46, 'total_tokens': 131}), HumanMessage(content='I also like cricket', additional_kwargs={}, response_metadata={}, id='670c0a2a-2ae6-45b3-86a9-5c2302da0b11')]}\n",
      "{'messages': [HumanMessage(content='Hi,My name is Kanishk And I like Football', additional_kwargs={}, response_metadata={}, id='ef51b419-6a88-4f64-aee9-056cf6da42a1'), AIMessage(content='Hi Kanishk! Nice to meet you! Football is a great passion to have! Which team or league do you support? Are you a fan of a particular player or a specific style of play?', additional_kwargs={}, response_metadata={'token_usage': {'completion_tokens': 42, 'prompt_tokens': 22, 'total_tokens': 64, 'completion_time': 0.038975715, 'prompt_time': 0.003242842, 'queue_time': 0.26977989799999996, 'total_time': 0.042218557}, 'model_name': 'llama3-8b-8192', 'system_fingerprint': 'fp_8dc6ecaf8e', 'finish_reason': 'stop', 'logprobs': None}, id='run--0f4baaa9-8aad-4585-994c-35eb7e25e28b-0', usage_metadata={'input_tokens': 22, 'output_tokens': 42, 'total_tokens': 64}), HumanMessage(content='Hi,My name is Kanishk And I like Football', additional_kwargs={}, response_metadata={}, id='3d2574b0-e5c2-44c6-969f-ec2ff6e43a1c'), AIMessage(content=\"A classic reintroduction! Hi Kanishk, nice to meet you again! Football is an amazing sport, isn't it? What's your favorite team or player? Do you play football yourself or just enjoy watching it?\", additional_kwargs={}, response_metadata={'token_usage': {'completion_tokens': 46, 'prompt_tokens': 85, 'total_tokens': 131, 'completion_time': 0.031556459, 'prompt_time': 0.009990152, 'queue_time': 0.27264444800000004, 'total_time': 0.041546611}, 'model_name': 'llama3-8b-8192', 'system_fingerprint': 'fp_8b7c3a83f7', 'finish_reason': 'stop', 'logprobs': None}, id='run--a2199c41-2c10-4792-9252-38a521c5523a-0', usage_metadata={'input_tokens': 85, 'output_tokens': 46, 'total_tokens': 131}), HumanMessage(content='I also like cricket', additional_kwargs={}, response_metadata={}, id='670c0a2a-2ae6-45b3-86a9-5c2302da0b11'), AIMessage(content=\"A great combination! Football and cricket are two of the most popular sports in the world, and it's awesome that you enjoy both!\\n\\nSo, which team do you support in cricket? Are you a fan of the Indian national team, or do you have a soft spot for a particular franchise in the IPL?\\n\\nAnd, by the way, do you think you're more of a fan of the thrill and pace of a T20 match, or the strategic battle that unfolds in a Test match?\", additional_kwargs={}, response_metadata={'token_usage': {'completion_tokens': 100, 'prompt_tokens': 144, 'total_tokens': 244, 'completion_time': 0.092587114, 'prompt_time': 0.016664461, 'queue_time': 0.270560939, 'total_time': 0.109251575}, 'model_name': 'llama3-8b-8192', 'system_fingerprint': 'fp_8dc6ecaf8e', 'finish_reason': 'stop', 'logprobs': None}, id='run--b3f168d5-edea-4fb8-8bc3-ba1f221f1721-0', usage_metadata={'input_tokens': 144, 'output_tokens': 100, 'total_tokens': 244})]}\n"
     ]
    }
   ],
   "source": [
    "for chunk in graph_builder.stream({'messages':\"I also like cricket\"},config,stream_mode=\"values\"):\n",
    "    print(chunk)"
   ]
  },
  {
   "cell_type": "code",
   "execution_count": 115,
   "metadata": {},
   "outputs": [
    {
     "name": "stdout",
     "output_type": "stream",
     "text": [
      "{'event': 'on_chain_start', 'data': {'input': {'messages': ['Hi My name is Kanishk and I like to play cricket']}}, 'name': 'LangGraph', 'tags': [], 'run_id': '0771c756-b3e0-4ade-9943-23d81948fbf5', 'metadata': {'thread_id': '5'}, 'parent_ids': []}\n",
      "{'event': 'on_chain_start', 'data': {'input': {'messages': [HumanMessage(content='Hi My name is Kanishk and I like to play cricket', additional_kwargs={}, response_metadata={}, id='c2a86bfa-cc6a-4b3d-99a5-5be67af8160a')]}}, 'name': 'SuperBot', 'tags': ['graph:step:1'], 'run_id': '05745f17-d2f1-4ddd-9a77-54f3bf7f048e', 'metadata': {'thread_id': '5', 'langgraph_step': 1, 'langgraph_node': 'SuperBot', 'langgraph_triggers': ('branch:to:SuperBot',), 'langgraph_path': ('__pregel_pull', 'SuperBot'), 'langgraph_checkpoint_ns': 'SuperBot:b77c13af-bb92-0cb9-49bf-4f52df1c37b6'}, 'parent_ids': ['0771c756-b3e0-4ade-9943-23d81948fbf5']}\n",
      "{'event': 'on_chat_model_start', 'data': {'input': {'messages': [[HumanMessage(content='Hi My name is Kanishk and I like to play cricket', additional_kwargs={}, response_metadata={}, id='c2a86bfa-cc6a-4b3d-99a5-5be67af8160a')]]}}, 'name': 'ChatGroq', 'tags': ['seq:step:1'], 'run_id': '44c28703-b970-42a9-9c96-b22dca3fe3fd', 'metadata': {'thread_id': '5', 'langgraph_step': 1, 'langgraph_node': 'SuperBot', 'langgraph_triggers': ('branch:to:SuperBot',), 'langgraph_path': ('__pregel_pull', 'SuperBot'), 'langgraph_checkpoint_ns': 'SuperBot:b77c13af-bb92-0cb9-49bf-4f52df1c37b6', 'checkpoint_ns': 'SuperBot:b77c13af-bb92-0cb9-49bf-4f52df1c37b6', 'ls_provider': 'groq', 'ls_model_name': 'llama3-8b-8192', 'ls_model_type': 'chat', 'ls_temperature': 0.7}, 'parent_ids': ['0771c756-b3e0-4ade-9943-23d81948fbf5', '05745f17-d2f1-4ddd-9a77-54f3bf7f048e']}\n",
      "{'event': 'on_chat_model_stream', 'data': {'chunk': AIMessageChunk(content='', additional_kwargs={}, response_metadata={}, id='run--44c28703-b970-42a9-9c96-b22dca3fe3fd')}, 'run_id': '44c28703-b970-42a9-9c96-b22dca3fe3fd', 'name': 'ChatGroq', 'tags': ['seq:step:1'], 'metadata': {'thread_id': '5', 'langgraph_step': 1, 'langgraph_node': 'SuperBot', 'langgraph_triggers': ('branch:to:SuperBot',), 'langgraph_path': ('__pregel_pull', 'SuperBot'), 'langgraph_checkpoint_ns': 'SuperBot:b77c13af-bb92-0cb9-49bf-4f52df1c37b6', 'checkpoint_ns': 'SuperBot:b77c13af-bb92-0cb9-49bf-4f52df1c37b6', 'ls_provider': 'groq', 'ls_model_name': 'llama3-8b-8192', 'ls_model_type': 'chat', 'ls_temperature': 0.7}, 'parent_ids': ['0771c756-b3e0-4ade-9943-23d81948fbf5', '05745f17-d2f1-4ddd-9a77-54f3bf7f048e']}\n",
      "{'event': 'on_chat_model_stream', 'data': {'chunk': AIMessageChunk(content='Hi', additional_kwargs={}, response_metadata={}, id='run--44c28703-b970-42a9-9c96-b22dca3fe3fd')}, 'run_id': '44c28703-b970-42a9-9c96-b22dca3fe3fd', 'name': 'ChatGroq', 'tags': ['seq:step:1'], 'metadata': {'thread_id': '5', 'langgraph_step': 1, 'langgraph_node': 'SuperBot', 'langgraph_triggers': ('branch:to:SuperBot',), 'langgraph_path': ('__pregel_pull', 'SuperBot'), 'langgraph_checkpoint_ns': 'SuperBot:b77c13af-bb92-0cb9-49bf-4f52df1c37b6', 'checkpoint_ns': 'SuperBot:b77c13af-bb92-0cb9-49bf-4f52df1c37b6', 'ls_provider': 'groq', 'ls_model_name': 'llama3-8b-8192', 'ls_model_type': 'chat', 'ls_temperature': 0.7}, 'parent_ids': ['0771c756-b3e0-4ade-9943-23d81948fbf5', '05745f17-d2f1-4ddd-9a77-54f3bf7f048e']}\n",
      "{'event': 'on_chat_model_stream', 'data': {'chunk': AIMessageChunk(content=' Kan', additional_kwargs={}, response_metadata={}, id='run--44c28703-b970-42a9-9c96-b22dca3fe3fd')}, 'run_id': '44c28703-b970-42a9-9c96-b22dca3fe3fd', 'name': 'ChatGroq', 'tags': ['seq:step:1'], 'metadata': {'thread_id': '5', 'langgraph_step': 1, 'langgraph_node': 'SuperBot', 'langgraph_triggers': ('branch:to:SuperBot',), 'langgraph_path': ('__pregel_pull', 'SuperBot'), 'langgraph_checkpoint_ns': 'SuperBot:b77c13af-bb92-0cb9-49bf-4f52df1c37b6', 'checkpoint_ns': 'SuperBot:b77c13af-bb92-0cb9-49bf-4f52df1c37b6', 'ls_provider': 'groq', 'ls_model_name': 'llama3-8b-8192', 'ls_model_type': 'chat', 'ls_temperature': 0.7}, 'parent_ids': ['0771c756-b3e0-4ade-9943-23d81948fbf5', '05745f17-d2f1-4ddd-9a77-54f3bf7f048e']}\n",
      "{'event': 'on_chat_model_stream', 'data': {'chunk': AIMessageChunk(content='ish', additional_kwargs={}, response_metadata={}, id='run--44c28703-b970-42a9-9c96-b22dca3fe3fd')}, 'run_id': '44c28703-b970-42a9-9c96-b22dca3fe3fd', 'name': 'ChatGroq', 'tags': ['seq:step:1'], 'metadata': {'thread_id': '5', 'langgraph_step': 1, 'langgraph_node': 'SuperBot', 'langgraph_triggers': ('branch:to:SuperBot',), 'langgraph_path': ('__pregel_pull', 'SuperBot'), 'langgraph_checkpoint_ns': 'SuperBot:b77c13af-bb92-0cb9-49bf-4f52df1c37b6', 'checkpoint_ns': 'SuperBot:b77c13af-bb92-0cb9-49bf-4f52df1c37b6', 'ls_provider': 'groq', 'ls_model_name': 'llama3-8b-8192', 'ls_model_type': 'chat', 'ls_temperature': 0.7}, 'parent_ids': ['0771c756-b3e0-4ade-9943-23d81948fbf5', '05745f17-d2f1-4ddd-9a77-54f3bf7f048e']}\n",
      "{'event': 'on_chat_model_stream', 'data': {'chunk': AIMessageChunk(content='k', additional_kwargs={}, response_metadata={}, id='run--44c28703-b970-42a9-9c96-b22dca3fe3fd')}, 'run_id': '44c28703-b970-42a9-9c96-b22dca3fe3fd', 'name': 'ChatGroq', 'tags': ['seq:step:1'], 'metadata': {'thread_id': '5', 'langgraph_step': 1, 'langgraph_node': 'SuperBot', 'langgraph_triggers': ('branch:to:SuperBot',), 'langgraph_path': ('__pregel_pull', 'SuperBot'), 'langgraph_checkpoint_ns': 'SuperBot:b77c13af-bb92-0cb9-49bf-4f52df1c37b6', 'checkpoint_ns': 'SuperBot:b77c13af-bb92-0cb9-49bf-4f52df1c37b6', 'ls_provider': 'groq', 'ls_model_name': 'llama3-8b-8192', 'ls_model_type': 'chat', 'ls_temperature': 0.7}, 'parent_ids': ['0771c756-b3e0-4ade-9943-23d81948fbf5', '05745f17-d2f1-4ddd-9a77-54f3bf7f048e']}\n",
      "{'event': 'on_chat_model_stream', 'data': {'chunk': AIMessageChunk(content='!', additional_kwargs={}, response_metadata={}, id='run--44c28703-b970-42a9-9c96-b22dca3fe3fd')}, 'run_id': '44c28703-b970-42a9-9c96-b22dca3fe3fd', 'name': 'ChatGroq', 'tags': ['seq:step:1'], 'metadata': {'thread_id': '5', 'langgraph_step': 1, 'langgraph_node': 'SuperBot', 'langgraph_triggers': ('branch:to:SuperBot',), 'langgraph_path': ('__pregel_pull', 'SuperBot'), 'langgraph_checkpoint_ns': 'SuperBot:b77c13af-bb92-0cb9-49bf-4f52df1c37b6', 'checkpoint_ns': 'SuperBot:b77c13af-bb92-0cb9-49bf-4f52df1c37b6', 'ls_provider': 'groq', 'ls_model_name': 'llama3-8b-8192', 'ls_model_type': 'chat', 'ls_temperature': 0.7}, 'parent_ids': ['0771c756-b3e0-4ade-9943-23d81948fbf5', '05745f17-d2f1-4ddd-9a77-54f3bf7f048e']}\n",
      "{'event': 'on_chat_model_stream', 'data': {'chunk': AIMessageChunk(content=' It', additional_kwargs={}, response_metadata={}, id='run--44c28703-b970-42a9-9c96-b22dca3fe3fd')}, 'run_id': '44c28703-b970-42a9-9c96-b22dca3fe3fd', 'name': 'ChatGroq', 'tags': ['seq:step:1'], 'metadata': {'thread_id': '5', 'langgraph_step': 1, 'langgraph_node': 'SuperBot', 'langgraph_triggers': ('branch:to:SuperBot',), 'langgraph_path': ('__pregel_pull', 'SuperBot'), 'langgraph_checkpoint_ns': 'SuperBot:b77c13af-bb92-0cb9-49bf-4f52df1c37b6', 'checkpoint_ns': 'SuperBot:b77c13af-bb92-0cb9-49bf-4f52df1c37b6', 'ls_provider': 'groq', 'ls_model_name': 'llama3-8b-8192', 'ls_model_type': 'chat', 'ls_temperature': 0.7}, 'parent_ids': ['0771c756-b3e0-4ade-9943-23d81948fbf5', '05745f17-d2f1-4ddd-9a77-54f3bf7f048e']}\n",
      "{'event': 'on_chat_model_stream', 'data': {'chunk': AIMessageChunk(content=\"'s\", additional_kwargs={}, response_metadata={}, id='run--44c28703-b970-42a9-9c96-b22dca3fe3fd')}, 'run_id': '44c28703-b970-42a9-9c96-b22dca3fe3fd', 'name': 'ChatGroq', 'tags': ['seq:step:1'], 'metadata': {'thread_id': '5', 'langgraph_step': 1, 'langgraph_node': 'SuperBot', 'langgraph_triggers': ('branch:to:SuperBot',), 'langgraph_path': ('__pregel_pull', 'SuperBot'), 'langgraph_checkpoint_ns': 'SuperBot:b77c13af-bb92-0cb9-49bf-4f52df1c37b6', 'checkpoint_ns': 'SuperBot:b77c13af-bb92-0cb9-49bf-4f52df1c37b6', 'ls_provider': 'groq', 'ls_model_name': 'llama3-8b-8192', 'ls_model_type': 'chat', 'ls_temperature': 0.7}, 'parent_ids': ['0771c756-b3e0-4ade-9943-23d81948fbf5', '05745f17-d2f1-4ddd-9a77-54f3bf7f048e']}\n",
      "{'event': 'on_chat_model_stream', 'data': {'chunk': AIMessageChunk(content=' great', additional_kwargs={}, response_metadata={}, id='run--44c28703-b970-42a9-9c96-b22dca3fe3fd')}, 'run_id': '44c28703-b970-42a9-9c96-b22dca3fe3fd', 'name': 'ChatGroq', 'tags': ['seq:step:1'], 'metadata': {'thread_id': '5', 'langgraph_step': 1, 'langgraph_node': 'SuperBot', 'langgraph_triggers': ('branch:to:SuperBot',), 'langgraph_path': ('__pregel_pull', 'SuperBot'), 'langgraph_checkpoint_ns': 'SuperBot:b77c13af-bb92-0cb9-49bf-4f52df1c37b6', 'checkpoint_ns': 'SuperBot:b77c13af-bb92-0cb9-49bf-4f52df1c37b6', 'ls_provider': 'groq', 'ls_model_name': 'llama3-8b-8192', 'ls_model_type': 'chat', 'ls_temperature': 0.7}, 'parent_ids': ['0771c756-b3e0-4ade-9943-23d81948fbf5', '05745f17-d2f1-4ddd-9a77-54f3bf7f048e']}\n",
      "{'event': 'on_chat_model_stream', 'data': {'chunk': AIMessageChunk(content=' to', additional_kwargs={}, response_metadata={}, id='run--44c28703-b970-42a9-9c96-b22dca3fe3fd')}, 'run_id': '44c28703-b970-42a9-9c96-b22dca3fe3fd', 'name': 'ChatGroq', 'tags': ['seq:step:1'], 'metadata': {'thread_id': '5', 'langgraph_step': 1, 'langgraph_node': 'SuperBot', 'langgraph_triggers': ('branch:to:SuperBot',), 'langgraph_path': ('__pregel_pull', 'SuperBot'), 'langgraph_checkpoint_ns': 'SuperBot:b77c13af-bb92-0cb9-49bf-4f52df1c37b6', 'checkpoint_ns': 'SuperBot:b77c13af-bb92-0cb9-49bf-4f52df1c37b6', 'ls_provider': 'groq', 'ls_model_name': 'llama3-8b-8192', 'ls_model_type': 'chat', 'ls_temperature': 0.7}, 'parent_ids': ['0771c756-b3e0-4ade-9943-23d81948fbf5', '05745f17-d2f1-4ddd-9a77-54f3bf7f048e']}\n",
      "{'event': 'on_chat_model_stream', 'data': {'chunk': AIMessageChunk(content=' meet', additional_kwargs={}, response_metadata={}, id='run--44c28703-b970-42a9-9c96-b22dca3fe3fd')}, 'run_id': '44c28703-b970-42a9-9c96-b22dca3fe3fd', 'name': 'ChatGroq', 'tags': ['seq:step:1'], 'metadata': {'thread_id': '5', 'langgraph_step': 1, 'langgraph_node': 'SuperBot', 'langgraph_triggers': ('branch:to:SuperBot',), 'langgraph_path': ('__pregel_pull', 'SuperBot'), 'langgraph_checkpoint_ns': 'SuperBot:b77c13af-bb92-0cb9-49bf-4f52df1c37b6', 'checkpoint_ns': 'SuperBot:b77c13af-bb92-0cb9-49bf-4f52df1c37b6', 'ls_provider': 'groq', 'ls_model_name': 'llama3-8b-8192', 'ls_model_type': 'chat', 'ls_temperature': 0.7}, 'parent_ids': ['0771c756-b3e0-4ade-9943-23d81948fbf5', '05745f17-d2f1-4ddd-9a77-54f3bf7f048e']}\n",
      "{'event': 'on_chat_model_stream', 'data': {'chunk': AIMessageChunk(content=' you', additional_kwargs={}, response_metadata={}, id='run--44c28703-b970-42a9-9c96-b22dca3fe3fd')}, 'run_id': '44c28703-b970-42a9-9c96-b22dca3fe3fd', 'name': 'ChatGroq', 'tags': ['seq:step:1'], 'metadata': {'thread_id': '5', 'langgraph_step': 1, 'langgraph_node': 'SuperBot', 'langgraph_triggers': ('branch:to:SuperBot',), 'langgraph_path': ('__pregel_pull', 'SuperBot'), 'langgraph_checkpoint_ns': 'SuperBot:b77c13af-bb92-0cb9-49bf-4f52df1c37b6', 'checkpoint_ns': 'SuperBot:b77c13af-bb92-0cb9-49bf-4f52df1c37b6', 'ls_provider': 'groq', 'ls_model_name': 'llama3-8b-8192', 'ls_model_type': 'chat', 'ls_temperature': 0.7}, 'parent_ids': ['0771c756-b3e0-4ade-9943-23d81948fbf5', '05745f17-d2f1-4ddd-9a77-54f3bf7f048e']}\n",
      "{'event': 'on_chat_model_stream', 'data': {'chunk': AIMessageChunk(content='!', additional_kwargs={}, response_metadata={}, id='run--44c28703-b970-42a9-9c96-b22dca3fe3fd')}, 'run_id': '44c28703-b970-42a9-9c96-b22dca3fe3fd', 'name': 'ChatGroq', 'tags': ['seq:step:1'], 'metadata': {'thread_id': '5', 'langgraph_step': 1, 'langgraph_node': 'SuperBot', 'langgraph_triggers': ('branch:to:SuperBot',), 'langgraph_path': ('__pregel_pull', 'SuperBot'), 'langgraph_checkpoint_ns': 'SuperBot:b77c13af-bb92-0cb9-49bf-4f52df1c37b6', 'checkpoint_ns': 'SuperBot:b77c13af-bb92-0cb9-49bf-4f52df1c37b6', 'ls_provider': 'groq', 'ls_model_name': 'llama3-8b-8192', 'ls_model_type': 'chat', 'ls_temperature': 0.7}, 'parent_ids': ['0771c756-b3e0-4ade-9943-23d81948fbf5', '05745f17-d2f1-4ddd-9a77-54f3bf7f048e']}\n",
      "{'event': 'on_chat_model_stream', 'data': {'chunk': AIMessageChunk(content=' Cricket', additional_kwargs={}, response_metadata={}, id='run--44c28703-b970-42a9-9c96-b22dca3fe3fd')}, 'run_id': '44c28703-b970-42a9-9c96-b22dca3fe3fd', 'name': 'ChatGroq', 'tags': ['seq:step:1'], 'metadata': {'thread_id': '5', 'langgraph_step': 1, 'langgraph_node': 'SuperBot', 'langgraph_triggers': ('branch:to:SuperBot',), 'langgraph_path': ('__pregel_pull', 'SuperBot'), 'langgraph_checkpoint_ns': 'SuperBot:b77c13af-bb92-0cb9-49bf-4f52df1c37b6', 'checkpoint_ns': 'SuperBot:b77c13af-bb92-0cb9-49bf-4f52df1c37b6', 'ls_provider': 'groq', 'ls_model_name': 'llama3-8b-8192', 'ls_model_type': 'chat', 'ls_temperature': 0.7}, 'parent_ids': ['0771c756-b3e0-4ade-9943-23d81948fbf5', '05745f17-d2f1-4ddd-9a77-54f3bf7f048e']}\n",
      "{'event': 'on_chat_model_stream', 'data': {'chunk': AIMessageChunk(content=' is', additional_kwargs={}, response_metadata={}, id='run--44c28703-b970-42a9-9c96-b22dca3fe3fd')}, 'run_id': '44c28703-b970-42a9-9c96-b22dca3fe3fd', 'name': 'ChatGroq', 'tags': ['seq:step:1'], 'metadata': {'thread_id': '5', 'langgraph_step': 1, 'langgraph_node': 'SuperBot', 'langgraph_triggers': ('branch:to:SuperBot',), 'langgraph_path': ('__pregel_pull', 'SuperBot'), 'langgraph_checkpoint_ns': 'SuperBot:b77c13af-bb92-0cb9-49bf-4f52df1c37b6', 'checkpoint_ns': 'SuperBot:b77c13af-bb92-0cb9-49bf-4f52df1c37b6', 'ls_provider': 'groq', 'ls_model_name': 'llama3-8b-8192', 'ls_model_type': 'chat', 'ls_temperature': 0.7}, 'parent_ids': ['0771c756-b3e0-4ade-9943-23d81948fbf5', '05745f17-d2f1-4ddd-9a77-54f3bf7f048e']}\n",
      "{'event': 'on_chat_model_stream', 'data': {'chunk': AIMessageChunk(content=' an', additional_kwargs={}, response_metadata={}, id='run--44c28703-b970-42a9-9c96-b22dca3fe3fd')}, 'run_id': '44c28703-b970-42a9-9c96-b22dca3fe3fd', 'name': 'ChatGroq', 'tags': ['seq:step:1'], 'metadata': {'thread_id': '5', 'langgraph_step': 1, 'langgraph_node': 'SuperBot', 'langgraph_triggers': ('branch:to:SuperBot',), 'langgraph_path': ('__pregel_pull', 'SuperBot'), 'langgraph_checkpoint_ns': 'SuperBot:b77c13af-bb92-0cb9-49bf-4f52df1c37b6', 'checkpoint_ns': 'SuperBot:b77c13af-bb92-0cb9-49bf-4f52df1c37b6', 'ls_provider': 'groq', 'ls_model_name': 'llama3-8b-8192', 'ls_model_type': 'chat', 'ls_temperature': 0.7}, 'parent_ids': ['0771c756-b3e0-4ade-9943-23d81948fbf5', '05745f17-d2f1-4ddd-9a77-54f3bf7f048e']}\n",
      "{'event': 'on_chat_model_stream', 'data': {'chunk': AIMessageChunk(content=' amazing', additional_kwargs={}, response_metadata={}, id='run--44c28703-b970-42a9-9c96-b22dca3fe3fd')}, 'run_id': '44c28703-b970-42a9-9c96-b22dca3fe3fd', 'name': 'ChatGroq', 'tags': ['seq:step:1'], 'metadata': {'thread_id': '5', 'langgraph_step': 1, 'langgraph_node': 'SuperBot', 'langgraph_triggers': ('branch:to:SuperBot',), 'langgraph_path': ('__pregel_pull', 'SuperBot'), 'langgraph_checkpoint_ns': 'SuperBot:b77c13af-bb92-0cb9-49bf-4f52df1c37b6', 'checkpoint_ns': 'SuperBot:b77c13af-bb92-0cb9-49bf-4f52df1c37b6', 'ls_provider': 'groq', 'ls_model_name': 'llama3-8b-8192', 'ls_model_type': 'chat', 'ls_temperature': 0.7}, 'parent_ids': ['0771c756-b3e0-4ade-9943-23d81948fbf5', '05745f17-d2f1-4ddd-9a77-54f3bf7f048e']}\n",
      "{'event': 'on_chat_model_stream', 'data': {'chunk': AIMessageChunk(content=' sport', additional_kwargs={}, response_metadata={}, id='run--44c28703-b970-42a9-9c96-b22dca3fe3fd')}, 'run_id': '44c28703-b970-42a9-9c96-b22dca3fe3fd', 'name': 'ChatGroq', 'tags': ['seq:step:1'], 'metadata': {'thread_id': '5', 'langgraph_step': 1, 'langgraph_node': 'SuperBot', 'langgraph_triggers': ('branch:to:SuperBot',), 'langgraph_path': ('__pregel_pull', 'SuperBot'), 'langgraph_checkpoint_ns': 'SuperBot:b77c13af-bb92-0cb9-49bf-4f52df1c37b6', 'checkpoint_ns': 'SuperBot:b77c13af-bb92-0cb9-49bf-4f52df1c37b6', 'ls_provider': 'groq', 'ls_model_name': 'llama3-8b-8192', 'ls_model_type': 'chat', 'ls_temperature': 0.7}, 'parent_ids': ['0771c756-b3e0-4ade-9943-23d81948fbf5', '05745f17-d2f1-4ddd-9a77-54f3bf7f048e']}\n",
      "{'event': 'on_chat_model_stream', 'data': {'chunk': AIMessageChunk(content=',', additional_kwargs={}, response_metadata={}, id='run--44c28703-b970-42a9-9c96-b22dca3fe3fd')}, 'run_id': '44c28703-b970-42a9-9c96-b22dca3fe3fd', 'name': 'ChatGroq', 'tags': ['seq:step:1'], 'metadata': {'thread_id': '5', 'langgraph_step': 1, 'langgraph_node': 'SuperBot', 'langgraph_triggers': ('branch:to:SuperBot',), 'langgraph_path': ('__pregel_pull', 'SuperBot'), 'langgraph_checkpoint_ns': 'SuperBot:b77c13af-bb92-0cb9-49bf-4f52df1c37b6', 'checkpoint_ns': 'SuperBot:b77c13af-bb92-0cb9-49bf-4f52df1c37b6', 'ls_provider': 'groq', 'ls_model_name': 'llama3-8b-8192', 'ls_model_type': 'chat', 'ls_temperature': 0.7}, 'parent_ids': ['0771c756-b3e0-4ade-9943-23d81948fbf5', '05745f17-d2f1-4ddd-9a77-54f3bf7f048e']}\n",
      "{'event': 'on_chat_model_stream', 'data': {'chunk': AIMessageChunk(content=' isn', additional_kwargs={}, response_metadata={}, id='run--44c28703-b970-42a9-9c96-b22dca3fe3fd')}, 'run_id': '44c28703-b970-42a9-9c96-b22dca3fe3fd', 'name': 'ChatGroq', 'tags': ['seq:step:1'], 'metadata': {'thread_id': '5', 'langgraph_step': 1, 'langgraph_node': 'SuperBot', 'langgraph_triggers': ('branch:to:SuperBot',), 'langgraph_path': ('__pregel_pull', 'SuperBot'), 'langgraph_checkpoint_ns': 'SuperBot:b77c13af-bb92-0cb9-49bf-4f52df1c37b6', 'checkpoint_ns': 'SuperBot:b77c13af-bb92-0cb9-49bf-4f52df1c37b6', 'ls_provider': 'groq', 'ls_model_name': 'llama3-8b-8192', 'ls_model_type': 'chat', 'ls_temperature': 0.7}, 'parent_ids': ['0771c756-b3e0-4ade-9943-23d81948fbf5', '05745f17-d2f1-4ddd-9a77-54f3bf7f048e']}\n",
      "{'event': 'on_chat_model_stream', 'data': {'chunk': AIMessageChunk(content=\"'t\", additional_kwargs={}, response_metadata={}, id='run--44c28703-b970-42a9-9c96-b22dca3fe3fd')}, 'run_id': '44c28703-b970-42a9-9c96-b22dca3fe3fd', 'name': 'ChatGroq', 'tags': ['seq:step:1'], 'metadata': {'thread_id': '5', 'langgraph_step': 1, 'langgraph_node': 'SuperBot', 'langgraph_triggers': ('branch:to:SuperBot',), 'langgraph_path': ('__pregel_pull', 'SuperBot'), 'langgraph_checkpoint_ns': 'SuperBot:b77c13af-bb92-0cb9-49bf-4f52df1c37b6', 'checkpoint_ns': 'SuperBot:b77c13af-bb92-0cb9-49bf-4f52df1c37b6', 'ls_provider': 'groq', 'ls_model_name': 'llama3-8b-8192', 'ls_model_type': 'chat', 'ls_temperature': 0.7}, 'parent_ids': ['0771c756-b3e0-4ade-9943-23d81948fbf5', '05745f17-d2f1-4ddd-9a77-54f3bf7f048e']}\n",
      "{'event': 'on_chat_model_stream', 'data': {'chunk': AIMessageChunk(content=' it', additional_kwargs={}, response_metadata={}, id='run--44c28703-b970-42a9-9c96-b22dca3fe3fd')}, 'run_id': '44c28703-b970-42a9-9c96-b22dca3fe3fd', 'name': 'ChatGroq', 'tags': ['seq:step:1'], 'metadata': {'thread_id': '5', 'langgraph_step': 1, 'langgraph_node': 'SuperBot', 'langgraph_triggers': ('branch:to:SuperBot',), 'langgraph_path': ('__pregel_pull', 'SuperBot'), 'langgraph_checkpoint_ns': 'SuperBot:b77c13af-bb92-0cb9-49bf-4f52df1c37b6', 'checkpoint_ns': 'SuperBot:b77c13af-bb92-0cb9-49bf-4f52df1c37b6', 'ls_provider': 'groq', 'ls_model_name': 'llama3-8b-8192', 'ls_model_type': 'chat', 'ls_temperature': 0.7}, 'parent_ids': ['0771c756-b3e0-4ade-9943-23d81948fbf5', '05745f17-d2f1-4ddd-9a77-54f3bf7f048e']}\n",
      "{'event': 'on_chat_model_stream', 'data': {'chunk': AIMessageChunk(content='?', additional_kwargs={}, response_metadata={}, id='run--44c28703-b970-42a9-9c96-b22dca3fe3fd')}, 'run_id': '44c28703-b970-42a9-9c96-b22dca3fe3fd', 'name': 'ChatGroq', 'tags': ['seq:step:1'], 'metadata': {'thread_id': '5', 'langgraph_step': 1, 'langgraph_node': 'SuperBot', 'langgraph_triggers': ('branch:to:SuperBot',), 'langgraph_path': ('__pregel_pull', 'SuperBot'), 'langgraph_checkpoint_ns': 'SuperBot:b77c13af-bb92-0cb9-49bf-4f52df1c37b6', 'checkpoint_ns': 'SuperBot:b77c13af-bb92-0cb9-49bf-4f52df1c37b6', 'ls_provider': 'groq', 'ls_model_name': 'llama3-8b-8192', 'ls_model_type': 'chat', 'ls_temperature': 0.7}, 'parent_ids': ['0771c756-b3e0-4ade-9943-23d81948fbf5', '05745f17-d2f1-4ddd-9a77-54f3bf7f048e']}\n",
      "{'event': 'on_chat_model_stream', 'data': {'chunk': AIMessageChunk(content=' Do', additional_kwargs={}, response_metadata={}, id='run--44c28703-b970-42a9-9c96-b22dca3fe3fd')}, 'run_id': '44c28703-b970-42a9-9c96-b22dca3fe3fd', 'name': 'ChatGroq', 'tags': ['seq:step:1'], 'metadata': {'thread_id': '5', 'langgraph_step': 1, 'langgraph_node': 'SuperBot', 'langgraph_triggers': ('branch:to:SuperBot',), 'langgraph_path': ('__pregel_pull', 'SuperBot'), 'langgraph_checkpoint_ns': 'SuperBot:b77c13af-bb92-0cb9-49bf-4f52df1c37b6', 'checkpoint_ns': 'SuperBot:b77c13af-bb92-0cb9-49bf-4f52df1c37b6', 'ls_provider': 'groq', 'ls_model_name': 'llama3-8b-8192', 'ls_model_type': 'chat', 'ls_temperature': 0.7}, 'parent_ids': ['0771c756-b3e0-4ade-9943-23d81948fbf5', '05745f17-d2f1-4ddd-9a77-54f3bf7f048e']}\n",
      "{'event': 'on_chat_model_stream', 'data': {'chunk': AIMessageChunk(content=' you', additional_kwargs={}, response_metadata={}, id='run--44c28703-b970-42a9-9c96-b22dca3fe3fd')}, 'run_id': '44c28703-b970-42a9-9c96-b22dca3fe3fd', 'name': 'ChatGroq', 'tags': ['seq:step:1'], 'metadata': {'thread_id': '5', 'langgraph_step': 1, 'langgraph_node': 'SuperBot', 'langgraph_triggers': ('branch:to:SuperBot',), 'langgraph_path': ('__pregel_pull', 'SuperBot'), 'langgraph_checkpoint_ns': 'SuperBot:b77c13af-bb92-0cb9-49bf-4f52df1c37b6', 'checkpoint_ns': 'SuperBot:b77c13af-bb92-0cb9-49bf-4f52df1c37b6', 'ls_provider': 'groq', 'ls_model_name': 'llama3-8b-8192', 'ls_model_type': 'chat', 'ls_temperature': 0.7}, 'parent_ids': ['0771c756-b3e0-4ade-9943-23d81948fbf5', '05745f17-d2f1-4ddd-9a77-54f3bf7f048e']}\n",
      "{'event': 'on_chat_model_stream', 'data': {'chunk': AIMessageChunk(content=' play', additional_kwargs={}, response_metadata={}, id='run--44c28703-b970-42a9-9c96-b22dca3fe3fd')}, 'run_id': '44c28703-b970-42a9-9c96-b22dca3fe3fd', 'name': 'ChatGroq', 'tags': ['seq:step:1'], 'metadata': {'thread_id': '5', 'langgraph_step': 1, 'langgraph_node': 'SuperBot', 'langgraph_triggers': ('branch:to:SuperBot',), 'langgraph_path': ('__pregel_pull', 'SuperBot'), 'langgraph_checkpoint_ns': 'SuperBot:b77c13af-bb92-0cb9-49bf-4f52df1c37b6', 'checkpoint_ns': 'SuperBot:b77c13af-bb92-0cb9-49bf-4f52df1c37b6', 'ls_provider': 'groq', 'ls_model_name': 'llama3-8b-8192', 'ls_model_type': 'chat', 'ls_temperature': 0.7}, 'parent_ids': ['0771c756-b3e0-4ade-9943-23d81948fbf5', '05745f17-d2f1-4ddd-9a77-54f3bf7f048e']}\n",
      "{'event': 'on_chat_model_stream', 'data': {'chunk': AIMessageChunk(content=' cricket', additional_kwargs={}, response_metadata={}, id='run--44c28703-b970-42a9-9c96-b22dca3fe3fd')}, 'run_id': '44c28703-b970-42a9-9c96-b22dca3fe3fd', 'name': 'ChatGroq', 'tags': ['seq:step:1'], 'metadata': {'thread_id': '5', 'langgraph_step': 1, 'langgraph_node': 'SuperBot', 'langgraph_triggers': ('branch:to:SuperBot',), 'langgraph_path': ('__pregel_pull', 'SuperBot'), 'langgraph_checkpoint_ns': 'SuperBot:b77c13af-bb92-0cb9-49bf-4f52df1c37b6', 'checkpoint_ns': 'SuperBot:b77c13af-bb92-0cb9-49bf-4f52df1c37b6', 'ls_provider': 'groq', 'ls_model_name': 'llama3-8b-8192', 'ls_model_type': 'chat', 'ls_temperature': 0.7}, 'parent_ids': ['0771c756-b3e0-4ade-9943-23d81948fbf5', '05745f17-d2f1-4ddd-9a77-54f3bf7f048e']}\n",
      "{'event': 'on_chat_model_stream', 'data': {'chunk': AIMessageChunk(content=' regularly', additional_kwargs={}, response_metadata={}, id='run--44c28703-b970-42a9-9c96-b22dca3fe3fd')}, 'run_id': '44c28703-b970-42a9-9c96-b22dca3fe3fd', 'name': 'ChatGroq', 'tags': ['seq:step:1'], 'metadata': {'thread_id': '5', 'langgraph_step': 1, 'langgraph_node': 'SuperBot', 'langgraph_triggers': ('branch:to:SuperBot',), 'langgraph_path': ('__pregel_pull', 'SuperBot'), 'langgraph_checkpoint_ns': 'SuperBot:b77c13af-bb92-0cb9-49bf-4f52df1c37b6', 'checkpoint_ns': 'SuperBot:b77c13af-bb92-0cb9-49bf-4f52df1c37b6', 'ls_provider': 'groq', 'ls_model_name': 'llama3-8b-8192', 'ls_model_type': 'chat', 'ls_temperature': 0.7}, 'parent_ids': ['0771c756-b3e0-4ade-9943-23d81948fbf5', '05745f17-d2f1-4ddd-9a77-54f3bf7f048e']}\n",
      "{'event': 'on_chat_model_stream', 'data': {'chunk': AIMessageChunk(content='?', additional_kwargs={}, response_metadata={}, id='run--44c28703-b970-42a9-9c96-b22dca3fe3fd')}, 'run_id': '44c28703-b970-42a9-9c96-b22dca3fe3fd', 'name': 'ChatGroq', 'tags': ['seq:step:1'], 'metadata': {'thread_id': '5', 'langgraph_step': 1, 'langgraph_node': 'SuperBot', 'langgraph_triggers': ('branch:to:SuperBot',), 'langgraph_path': ('__pregel_pull', 'SuperBot'), 'langgraph_checkpoint_ns': 'SuperBot:b77c13af-bb92-0cb9-49bf-4f52df1c37b6', 'checkpoint_ns': 'SuperBot:b77c13af-bb92-0cb9-49bf-4f52df1c37b6', 'ls_provider': 'groq', 'ls_model_name': 'llama3-8b-8192', 'ls_model_type': 'chat', 'ls_temperature': 0.7}, 'parent_ids': ['0771c756-b3e0-4ade-9943-23d81948fbf5', '05745f17-d2f1-4ddd-9a77-54f3bf7f048e']}\n",
      "{'event': 'on_chat_model_stream', 'data': {'chunk': AIMessageChunk(content=' Do', additional_kwargs={}, response_metadata={}, id='run--44c28703-b970-42a9-9c96-b22dca3fe3fd')}, 'run_id': '44c28703-b970-42a9-9c96-b22dca3fe3fd', 'name': 'ChatGroq', 'tags': ['seq:step:1'], 'metadata': {'thread_id': '5', 'langgraph_step': 1, 'langgraph_node': 'SuperBot', 'langgraph_triggers': ('branch:to:SuperBot',), 'langgraph_path': ('__pregel_pull', 'SuperBot'), 'langgraph_checkpoint_ns': 'SuperBot:b77c13af-bb92-0cb9-49bf-4f52df1c37b6', 'checkpoint_ns': 'SuperBot:b77c13af-bb92-0cb9-49bf-4f52df1c37b6', 'ls_provider': 'groq', 'ls_model_name': 'llama3-8b-8192', 'ls_model_type': 'chat', 'ls_temperature': 0.7}, 'parent_ids': ['0771c756-b3e0-4ade-9943-23d81948fbf5', '05745f17-d2f1-4ddd-9a77-54f3bf7f048e']}\n",
      "{'event': 'on_chat_model_stream', 'data': {'chunk': AIMessageChunk(content=' you', additional_kwargs={}, response_metadata={}, id='run--44c28703-b970-42a9-9c96-b22dca3fe3fd')}, 'run_id': '44c28703-b970-42a9-9c96-b22dca3fe3fd', 'name': 'ChatGroq', 'tags': ['seq:step:1'], 'metadata': {'thread_id': '5', 'langgraph_step': 1, 'langgraph_node': 'SuperBot', 'langgraph_triggers': ('branch:to:SuperBot',), 'langgraph_path': ('__pregel_pull', 'SuperBot'), 'langgraph_checkpoint_ns': 'SuperBot:b77c13af-bb92-0cb9-49bf-4f52df1c37b6', 'checkpoint_ns': 'SuperBot:b77c13af-bb92-0cb9-49bf-4f52df1c37b6', 'ls_provider': 'groq', 'ls_model_name': 'llama3-8b-8192', 'ls_model_type': 'chat', 'ls_temperature': 0.7}, 'parent_ids': ['0771c756-b3e0-4ade-9943-23d81948fbf5', '05745f17-d2f1-4ddd-9a77-54f3bf7f048e']}\n",
      "{'event': 'on_chat_model_stream', 'data': {'chunk': AIMessageChunk(content=' have', additional_kwargs={}, response_metadata={}, id='run--44c28703-b970-42a9-9c96-b22dca3fe3fd')}, 'run_id': '44c28703-b970-42a9-9c96-b22dca3fe3fd', 'name': 'ChatGroq', 'tags': ['seq:step:1'], 'metadata': {'thread_id': '5', 'langgraph_step': 1, 'langgraph_node': 'SuperBot', 'langgraph_triggers': ('branch:to:SuperBot',), 'langgraph_path': ('__pregel_pull', 'SuperBot'), 'langgraph_checkpoint_ns': 'SuperBot:b77c13af-bb92-0cb9-49bf-4f52df1c37b6', 'checkpoint_ns': 'SuperBot:b77c13af-bb92-0cb9-49bf-4f52df1c37b6', 'ls_provider': 'groq', 'ls_model_name': 'llama3-8b-8192', 'ls_model_type': 'chat', 'ls_temperature': 0.7}, 'parent_ids': ['0771c756-b3e0-4ade-9943-23d81948fbf5', '05745f17-d2f1-4ddd-9a77-54f3bf7f048e']}\n",
      "{'event': 'on_chat_model_stream', 'data': {'chunk': AIMessageChunk(content=' a', additional_kwargs={}, response_metadata={}, id='run--44c28703-b970-42a9-9c96-b22dca3fe3fd')}, 'run_id': '44c28703-b970-42a9-9c96-b22dca3fe3fd', 'name': 'ChatGroq', 'tags': ['seq:step:1'], 'metadata': {'thread_id': '5', 'langgraph_step': 1, 'langgraph_node': 'SuperBot', 'langgraph_triggers': ('branch:to:SuperBot',), 'langgraph_path': ('__pregel_pull', 'SuperBot'), 'langgraph_checkpoint_ns': 'SuperBot:b77c13af-bb92-0cb9-49bf-4f52df1c37b6', 'checkpoint_ns': 'SuperBot:b77c13af-bb92-0cb9-49bf-4f52df1c37b6', 'ls_provider': 'groq', 'ls_model_name': 'llama3-8b-8192', 'ls_model_type': 'chat', 'ls_temperature': 0.7}, 'parent_ids': ['0771c756-b3e0-4ade-9943-23d81948fbf5', '05745f17-d2f1-4ddd-9a77-54f3bf7f048e']}\n",
      "{'event': 'on_chat_model_stream', 'data': {'chunk': AIMessageChunk(content=' favorite', additional_kwargs={}, response_metadata={}, id='run--44c28703-b970-42a9-9c96-b22dca3fe3fd')}, 'run_id': '44c28703-b970-42a9-9c96-b22dca3fe3fd', 'name': 'ChatGroq', 'tags': ['seq:step:1'], 'metadata': {'thread_id': '5', 'langgraph_step': 1, 'langgraph_node': 'SuperBot', 'langgraph_triggers': ('branch:to:SuperBot',), 'langgraph_path': ('__pregel_pull', 'SuperBot'), 'langgraph_checkpoint_ns': 'SuperBot:b77c13af-bb92-0cb9-49bf-4f52df1c37b6', 'checkpoint_ns': 'SuperBot:b77c13af-bb92-0cb9-49bf-4f52df1c37b6', 'ls_provider': 'groq', 'ls_model_name': 'llama3-8b-8192', 'ls_model_type': 'chat', 'ls_temperature': 0.7}, 'parent_ids': ['0771c756-b3e0-4ade-9943-23d81948fbf5', '05745f17-d2f1-4ddd-9a77-54f3bf7f048e']}\n",
      "{'event': 'on_chat_model_stream', 'data': {'chunk': AIMessageChunk(content=' team', additional_kwargs={}, response_metadata={}, id='run--44c28703-b970-42a9-9c96-b22dca3fe3fd')}, 'run_id': '44c28703-b970-42a9-9c96-b22dca3fe3fd', 'name': 'ChatGroq', 'tags': ['seq:step:1'], 'metadata': {'thread_id': '5', 'langgraph_step': 1, 'langgraph_node': 'SuperBot', 'langgraph_triggers': ('branch:to:SuperBot',), 'langgraph_path': ('__pregel_pull', 'SuperBot'), 'langgraph_checkpoint_ns': 'SuperBot:b77c13af-bb92-0cb9-49bf-4f52df1c37b6', 'checkpoint_ns': 'SuperBot:b77c13af-bb92-0cb9-49bf-4f52df1c37b6', 'ls_provider': 'groq', 'ls_model_name': 'llama3-8b-8192', 'ls_model_type': 'chat', 'ls_temperature': 0.7}, 'parent_ids': ['0771c756-b3e0-4ade-9943-23d81948fbf5', '05745f17-d2f1-4ddd-9a77-54f3bf7f048e']}\n",
      "{'event': 'on_chat_model_stream', 'data': {'chunk': AIMessageChunk(content=' or', additional_kwargs={}, response_metadata={}, id='run--44c28703-b970-42a9-9c96-b22dca3fe3fd')}, 'run_id': '44c28703-b970-42a9-9c96-b22dca3fe3fd', 'name': 'ChatGroq', 'tags': ['seq:step:1'], 'metadata': {'thread_id': '5', 'langgraph_step': 1, 'langgraph_node': 'SuperBot', 'langgraph_triggers': ('branch:to:SuperBot',), 'langgraph_path': ('__pregel_pull', 'SuperBot'), 'langgraph_checkpoint_ns': 'SuperBot:b77c13af-bb92-0cb9-49bf-4f52df1c37b6', 'checkpoint_ns': 'SuperBot:b77c13af-bb92-0cb9-49bf-4f52df1c37b6', 'ls_provider': 'groq', 'ls_model_name': 'llama3-8b-8192', 'ls_model_type': 'chat', 'ls_temperature': 0.7}, 'parent_ids': ['0771c756-b3e0-4ade-9943-23d81948fbf5', '05745f17-d2f1-4ddd-9a77-54f3bf7f048e']}\n",
      "{'event': 'on_chat_model_stream', 'data': {'chunk': AIMessageChunk(content=' player', additional_kwargs={}, response_metadata={}, id='run--44c28703-b970-42a9-9c96-b22dca3fe3fd')}, 'run_id': '44c28703-b970-42a9-9c96-b22dca3fe3fd', 'name': 'ChatGroq', 'tags': ['seq:step:1'], 'metadata': {'thread_id': '5', 'langgraph_step': 1, 'langgraph_node': 'SuperBot', 'langgraph_triggers': ('branch:to:SuperBot',), 'langgraph_path': ('__pregel_pull', 'SuperBot'), 'langgraph_checkpoint_ns': 'SuperBot:b77c13af-bb92-0cb9-49bf-4f52df1c37b6', 'checkpoint_ns': 'SuperBot:b77c13af-bb92-0cb9-49bf-4f52df1c37b6', 'ls_provider': 'groq', 'ls_model_name': 'llama3-8b-8192', 'ls_model_type': 'chat', 'ls_temperature': 0.7}, 'parent_ids': ['0771c756-b3e0-4ade-9943-23d81948fbf5', '05745f17-d2f1-4ddd-9a77-54f3bf7f048e']}\n",
      "{'event': 'on_chat_model_stream', 'data': {'chunk': AIMessageChunk(content='?', additional_kwargs={}, response_metadata={}, id='run--44c28703-b970-42a9-9c96-b22dca3fe3fd')}, 'run_id': '44c28703-b970-42a9-9c96-b22dca3fe3fd', 'name': 'ChatGroq', 'tags': ['seq:step:1'], 'metadata': {'thread_id': '5', 'langgraph_step': 1, 'langgraph_node': 'SuperBot', 'langgraph_triggers': ('branch:to:SuperBot',), 'langgraph_path': ('__pregel_pull', 'SuperBot'), 'langgraph_checkpoint_ns': 'SuperBot:b77c13af-bb92-0cb9-49bf-4f52df1c37b6', 'checkpoint_ns': 'SuperBot:b77c13af-bb92-0cb9-49bf-4f52df1c37b6', 'ls_provider': 'groq', 'ls_model_name': 'llama3-8b-8192', 'ls_model_type': 'chat', 'ls_temperature': 0.7}, 'parent_ids': ['0771c756-b3e0-4ade-9943-23d81948fbf5', '05745f17-d2f1-4ddd-9a77-54f3bf7f048e']}\n",
      "{'event': 'on_chat_model_stream', 'data': {'chunk': AIMessageChunk(content='', additional_kwargs={}, response_metadata={'finish_reason': 'stop', 'model_name': 'llama3-8b-8192', 'system_fingerprint': 'fp_8af39bf2ae'}, id='run--44c28703-b970-42a9-9c96-b22dca3fe3fd', usage_metadata={'input_tokens': 23, 'output_tokens': 38, 'total_tokens': 61})}, 'run_id': '44c28703-b970-42a9-9c96-b22dca3fe3fd', 'name': 'ChatGroq', 'tags': ['seq:step:1'], 'metadata': {'thread_id': '5', 'langgraph_step': 1, 'langgraph_node': 'SuperBot', 'langgraph_triggers': ('branch:to:SuperBot',), 'langgraph_path': ('__pregel_pull', 'SuperBot'), 'langgraph_checkpoint_ns': 'SuperBot:b77c13af-bb92-0cb9-49bf-4f52df1c37b6', 'checkpoint_ns': 'SuperBot:b77c13af-bb92-0cb9-49bf-4f52df1c37b6', 'ls_provider': 'groq', 'ls_model_name': 'llama3-8b-8192', 'ls_model_type': 'chat', 'ls_temperature': 0.7}, 'parent_ids': ['0771c756-b3e0-4ade-9943-23d81948fbf5', '05745f17-d2f1-4ddd-9a77-54f3bf7f048e']}\n",
      "{'event': 'on_chat_model_end', 'data': {'output': AIMessage(content=\"Hi Kanishk! It's great to meet you! Cricket is an amazing sport, isn't it? Do you play cricket regularly? Do you have a favorite team or player?\", additional_kwargs={}, response_metadata={'finish_reason': 'stop', 'model_name': 'llama3-8b-8192', 'system_fingerprint': 'fp_8af39bf2ae'}, id='run--44c28703-b970-42a9-9c96-b22dca3fe3fd', usage_metadata={'input_tokens': 23, 'output_tokens': 38, 'total_tokens': 61}), 'input': {'messages': [[HumanMessage(content='Hi My name is Kanishk and I like to play cricket', additional_kwargs={}, response_metadata={}, id='c2a86bfa-cc6a-4b3d-99a5-5be67af8160a')]]}}, 'run_id': '44c28703-b970-42a9-9c96-b22dca3fe3fd', 'name': 'ChatGroq', 'tags': ['seq:step:1'], 'metadata': {'thread_id': '5', 'langgraph_step': 1, 'langgraph_node': 'SuperBot', 'langgraph_triggers': ('branch:to:SuperBot',), 'langgraph_path': ('__pregel_pull', 'SuperBot'), 'langgraph_checkpoint_ns': 'SuperBot:b77c13af-bb92-0cb9-49bf-4f52df1c37b6', 'checkpoint_ns': 'SuperBot:b77c13af-bb92-0cb9-49bf-4f52df1c37b6', 'ls_provider': 'groq', 'ls_model_name': 'llama3-8b-8192', 'ls_model_type': 'chat', 'ls_temperature': 0.7}, 'parent_ids': ['0771c756-b3e0-4ade-9943-23d81948fbf5', '05745f17-d2f1-4ddd-9a77-54f3bf7f048e']}\n",
      "{'event': 'on_chain_stream', 'run_id': '05745f17-d2f1-4ddd-9a77-54f3bf7f048e', 'name': 'SuperBot', 'tags': ['graph:step:1'], 'metadata': {'thread_id': '5', 'langgraph_step': 1, 'langgraph_node': 'SuperBot', 'langgraph_triggers': ('branch:to:SuperBot',), 'langgraph_path': ('__pregel_pull', 'SuperBot'), 'langgraph_checkpoint_ns': 'SuperBot:b77c13af-bb92-0cb9-49bf-4f52df1c37b6'}, 'data': {'chunk': {'messages': [AIMessage(content=\"Hi Kanishk! It's great to meet you! Cricket is an amazing sport, isn't it? Do you play cricket regularly? Do you have a favorite team or player?\", additional_kwargs={}, response_metadata={'finish_reason': 'stop', 'model_name': 'llama3-8b-8192', 'system_fingerprint': 'fp_8af39bf2ae'}, id='run--44c28703-b970-42a9-9c96-b22dca3fe3fd', usage_metadata={'input_tokens': 23, 'output_tokens': 38, 'total_tokens': 61})]}}, 'parent_ids': ['0771c756-b3e0-4ade-9943-23d81948fbf5']}\n",
      "{'event': 'on_chain_end', 'data': {'output': {'messages': [AIMessage(content=\"Hi Kanishk! It's great to meet you! Cricket is an amazing sport, isn't it? Do you play cricket regularly? Do you have a favorite team or player?\", additional_kwargs={}, response_metadata={'finish_reason': 'stop', 'model_name': 'llama3-8b-8192', 'system_fingerprint': 'fp_8af39bf2ae'}, id='run--44c28703-b970-42a9-9c96-b22dca3fe3fd', usage_metadata={'input_tokens': 23, 'output_tokens': 38, 'total_tokens': 61})]}, 'input': {'messages': [HumanMessage(content='Hi My name is Kanishk and I like to play cricket', additional_kwargs={}, response_metadata={}, id='c2a86bfa-cc6a-4b3d-99a5-5be67af8160a')]}}, 'run_id': '05745f17-d2f1-4ddd-9a77-54f3bf7f048e', 'name': 'SuperBot', 'tags': ['graph:step:1'], 'metadata': {'thread_id': '5', 'langgraph_step': 1, 'langgraph_node': 'SuperBot', 'langgraph_triggers': ('branch:to:SuperBot',), 'langgraph_path': ('__pregel_pull', 'SuperBot'), 'langgraph_checkpoint_ns': 'SuperBot:b77c13af-bb92-0cb9-49bf-4f52df1c37b6'}, 'parent_ids': ['0771c756-b3e0-4ade-9943-23d81948fbf5']}\n",
      "{'event': 'on_chain_stream', 'run_id': '0771c756-b3e0-4ade-9943-23d81948fbf5', 'name': 'LangGraph', 'tags': [], 'metadata': {'thread_id': '5'}, 'data': {'chunk': {'SuperBot': {'messages': [AIMessage(content=\"Hi Kanishk! It's great to meet you! Cricket is an amazing sport, isn't it? Do you play cricket regularly? Do you have a favorite team or player?\", additional_kwargs={}, response_metadata={'finish_reason': 'stop', 'model_name': 'llama3-8b-8192', 'system_fingerprint': 'fp_8af39bf2ae'}, id='run--44c28703-b970-42a9-9c96-b22dca3fe3fd', usage_metadata={'input_tokens': 23, 'output_tokens': 38, 'total_tokens': 61})]}}}, 'parent_ids': []}\n",
      "{'event': 'on_chain_end', 'data': {'output': {'messages': [HumanMessage(content='Hi My name is Kanishk and I like to play cricket', additional_kwargs={}, response_metadata={}, id='c2a86bfa-cc6a-4b3d-99a5-5be67af8160a'), AIMessage(content=\"Hi Kanishk! It's great to meet you! Cricket is an amazing sport, isn't it? Do you play cricket regularly? Do you have a favorite team or player?\", additional_kwargs={}, response_metadata={'finish_reason': 'stop', 'model_name': 'llama3-8b-8192', 'system_fingerprint': 'fp_8af39bf2ae'}, id='run--44c28703-b970-42a9-9c96-b22dca3fe3fd', usage_metadata={'input_tokens': 23, 'output_tokens': 38, 'total_tokens': 61})]}}, 'run_id': '0771c756-b3e0-4ade-9943-23d81948fbf5', 'name': 'LangGraph', 'tags': [], 'metadata': {'thread_id': '5'}, 'parent_ids': []}\n"
     ]
    }
   ],
   "source": [
    "config = {\"configurable\": {\"thread_id\": \"5\"}}\n",
    "\n",
    "async for event in graph_builder.astream_events({\"messages\":[\"Hi My name is Kanishk and I like to play cricket\"]},config,version=\"v2\"):\n",
    "    print(event)"
   ]
  },
  {
   "cell_type": "code",
   "execution_count": null,
   "metadata": {},
   "outputs": [],
   "source": []
  }
 ],
 "metadata": {
  "kernelspec": {
   "display_name": ".venv",
   "language": "python",
   "name": "python3"
  },
  "language_info": {
   "codemirror_mode": {
    "name": "ipython",
    "version": 3
   },
   "file_extension": ".py",
   "mimetype": "text/x-python",
   "name": "python",
   "nbconvert_exporter": "python",
   "pygments_lexer": "ipython3",
   "version": "3.13.5"
  }
 },
 "nbformat": 4,
 "nbformat_minor": 2
}
